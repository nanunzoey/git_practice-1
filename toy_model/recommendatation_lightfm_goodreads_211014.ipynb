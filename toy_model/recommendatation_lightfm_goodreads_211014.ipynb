{
  "nbformat": 4,
  "nbformat_minor": 0,
  "metadata": {
    "colab": {
      "name": "recommendatation_lightfm_goodreads_211014.ipynb",
      "provenance": [],
      "collapsed_sections": [],
      "include_colab_link": true
    },
    "kernelspec": {
      "name": "python3",
      "display_name": "Python 3"
    },
    "language_info": {
      "name": "python"
    },
    "accelerator": "GPU"
  },
  "cells": [
    {
      "cell_type": "markdown",
      "metadata": {
        "id": "view-in-github",
        "colab_type": "text"
      },
      "source": [
        "<a href=\"https://colab.research.google.com/github/nanunzoey/git_practice-1/blob/main/recommendatation_lightfm_goodreads_211014.ipynb\" target=\"_parent\"><img src=\"https://colab.research.google.com/assets/colab-badge.svg\" alt=\"Open In Colab\"/></a>"
      ]
    },
    {
      "cell_type": "markdown",
      "metadata": {
        "id": "1gPBMHS3eK3k"
      },
      "source": [
        "# **Item 추천**\n",
        "\n",

        "#### **1. 무엇을 하는 것인가?**\n",
        "- 사용자와 item에 대한 정보를 바탕으로 **사용자가 선호할만한 item을 예측하는 것**이 목적입니다.\n",
        "- 이를 위해 필요한 데이터는 아래 두 가지로 설명할 수 있습니다.\n",
        "    - **1) 사용자가 현재 선호하는 item이 무엇인지**\n",
        "    - **2) 그 사용자와 item의 각 특성이 무엇인지**    \n",
        "\n",

        "#### **2. 적용 데이터 소개**\n",
        "- 이전 데이터 탐색(EDA) 단계에서 전처리한 것을 사용합니다.\n",
        "- 이 데이터에서 **유저가 어떤 책을 선호하는지** 객관적으로 판단할 수 있는, **가장 중요한 정보는 평점(rating)**입니다.\n",
        "- **구하다**의 경우에는 **클릭 수와 구매, 장바구니, 찜하기 여부**를 중점으로 그 선호도를 측정할 계획입니다.\n",
        "- **사용자가 선호할만한 item 추천**을 위해 **최종적으로 이용한** 데이터 특징(column)은 다음과 같습니다.\n",
        "    - **book_id: 책 id**\n",
        "    - is_eng: 책이 영문인지 여부\n",
        "    - num_pages: 책 페이지 수\n",
        "    - publication_year: 출판연도\n",
        "    - publication_month: 출판한 달\n",
        "    - publication_day: 출판한 날짜\n",
        "    - **average_rating: 책의 평균 평점**\n",
        "    -\t**ratings_count: 책의 전체 평점 개수**\n",
        "    - **text_reviews_count: 리뷰 개수**\n",
        "    -\tauthor_average_rating: 작가 평균 평점\n",
        "    -\tauthor_ratings_count: 작가 평점 개수\n",
        "    -\tauthor_text_reviews_count: 작가 리뷰 개수\n",
        "    - **user_id: 사용자 id**\n",
        "    -\t**rating: 사용자가 매긴 책의 평점**    "
      ]
    },
    {
      "cell_type": "markdown",
      "metadata": {
        "id": "8S-beXPKHHqx"
      },
      "source": [
        "## **Import Modules**"
      ]
    },
    {
      "cell_type": "code",
      "metadata": {
        "colab": {
          "base_uri": "https://localhost:8080/"
        },
        "id": "fhyKByTE6vOw",
        "outputId": "dc486059-833f-4f18-e79d-3cb10ce1b5ec"
      },
      "source": [
        "!pip install lightfm\n",
        "!pip install scikit-optimize"
      ],
      "execution_count": 2,
      "outputs": [
        {
          "output_type": "stream",
          "name": "stdout",
          "text": [
            "Collecting lightfm\n",
            "  Downloading lightfm-1.16.tar.gz (310 kB)\n",
            "\u001b[?25l\r\u001b[K     |█                               | 10 kB 35.0 MB/s eta 0:00:01\r\u001b[K     |██▏                             | 20 kB 42.4 MB/s eta 0:00:01\r\u001b[K     |███▏                            | 30 kB 42.7 MB/s eta 0:00:01\r\u001b[K     |████▎                           | 40 kB 25.4 MB/s eta 0:00:01\r\u001b[K     |█████▎                          | 51 kB 17.5 MB/s eta 0:00:01\r\u001b[K     |██████▍                         | 61 kB 14.8 MB/s eta 0:00:01\r\u001b[K     |███████▍                        | 71 kB 16.3 MB/s eta 0:00:01\r\u001b[K     |████████▌                       | 81 kB 17.8 MB/s eta 0:00:01\r\u001b[K     |█████████▌                      | 92 kB 18.3 MB/s eta 0:00:01\r\u001b[K     |██████████▋                     | 102 kB 16.0 MB/s eta 0:00:01\r\u001b[K     |███████████▋                    | 112 kB 16.0 MB/s eta 0:00:01\r\u001b[K     |████████████▊                   | 122 kB 16.0 MB/s eta 0:00:01\r\u001b[K     |█████████████▊                  | 133 kB 16.0 MB/s eta 0:00:01\r\u001b[K     |██████████████▉                 | 143 kB 16.0 MB/s eta 0:00:01\r\u001b[K     |███████████████▉                | 153 kB 16.0 MB/s eta 0:00:01\r\u001b[K     |█████████████████               | 163 kB 16.0 MB/s eta 0:00:01\r\u001b[K     |██████████████████              | 174 kB 16.0 MB/s eta 0:00:01\r\u001b[K     |███████████████████             | 184 kB 16.0 MB/s eta 0:00:01\r\u001b[K     |████████████████████            | 194 kB 16.0 MB/s eta 0:00:01\r\u001b[K     |█████████████████████▏          | 204 kB 16.0 MB/s eta 0:00:01\r\u001b[K     |██████████████████████▏         | 215 kB 16.0 MB/s eta 0:00:01\r\u001b[K     |███████████████████████▎        | 225 kB 16.0 MB/s eta 0:00:01\r\u001b[K     |████████████████████████▎       | 235 kB 16.0 MB/s eta 0:00:01\r\u001b[K     |█████████████████████████▍      | 245 kB 16.0 MB/s eta 0:00:01\r\u001b[K     |██████████████████████████▍     | 256 kB 16.0 MB/s eta 0:00:01\r\u001b[K     |███████████████████████████▌    | 266 kB 16.0 MB/s eta 0:00:01\r\u001b[K     |████████████████████████████▌   | 276 kB 16.0 MB/s eta 0:00:01\r\u001b[K     |█████████████████████████████▋  | 286 kB 16.0 MB/s eta 0:00:01\r\u001b[K     |██████████████████████████████▋ | 296 kB 16.0 MB/s eta 0:00:01\r\u001b[K     |███████████████████████████████▊| 307 kB 16.0 MB/s eta 0:00:01\r\u001b[K     |████████████████████████████████| 310 kB 16.0 MB/s \n",
            "\u001b[?25hRequirement already satisfied: numpy in /usr/local/lib/python3.7/dist-packages (from lightfm) (1.19.5)\n",
            "Requirement already satisfied: scipy>=0.17.0 in /usr/local/lib/python3.7/dist-packages (from lightfm) (1.4.1)\n",
            "Requirement already satisfied: requests in /usr/local/lib/python3.7/dist-packages (from lightfm) (2.23.0)\n",
            "Requirement already satisfied: scikit-learn in /usr/local/lib/python3.7/dist-packages (from lightfm) (0.22.2.post1)\n",
            "Requirement already satisfied: chardet<4,>=3.0.2 in /usr/local/lib/python3.7/dist-packages (from requests->lightfm) (3.0.4)\n",
            "Requirement already satisfied: idna<3,>=2.5 in /usr/local/lib/python3.7/dist-packages (from requests->lightfm) (2.10)\n",
            "Requirement already satisfied: urllib3!=1.25.0,!=1.25.1,<1.26,>=1.21.1 in /usr/local/lib/python3.7/dist-packages (from requests->lightfm) (1.24.3)\n",
            "Requirement already satisfied: certifi>=2017.4.17 in /usr/local/lib/python3.7/dist-packages (from requests->lightfm) (2021.5.30)\n",
            "Requirement already satisfied: joblib>=0.11 in /usr/local/lib/python3.7/dist-packages (from scikit-learn->lightfm) (1.0.1)\n",
            "Building wheels for collected packages: lightfm\n",
            "  Building wheel for lightfm (setup.py) ... \u001b[?25l\u001b[?25hdone\n",
            "  Created wheel for lightfm: filename=lightfm-1.16-cp37-cp37m-linux_x86_64.whl size=706137 sha256=0443b516e0edd80cd8ef4d29bbcf3e669feae64de3e49265be3d837cd76d194a\n",
            "  Stored in directory: /root/.cache/pip/wheels/f8/56/28/5772a3bd3413d65f03aa452190b00898b680b10028a1021914\n",
            "Successfully built lightfm\n",
            "Installing collected packages: lightfm\n",
            "Successfully installed lightfm-1.16\n",
            "Collecting scikit-optimize\n",
            "  Downloading scikit_optimize-0.9.0-py2.py3-none-any.whl (100 kB)\n",
            "\u001b[K     |████████████████████████████████| 100 kB 7.0 MB/s \n",
            "\u001b[?25hRequirement already satisfied: joblib>=0.11 in /usr/local/lib/python3.7/dist-packages (from scikit-optimize) (1.0.1)\n",
            "Requirement already satisfied: numpy>=1.13.3 in /usr/local/lib/python3.7/dist-packages (from scikit-optimize) (1.19.5)\n",
            "Requirement already satisfied: scipy>=0.19.1 in /usr/local/lib/python3.7/dist-packages (from scikit-optimize) (1.4.1)\n",
            "Collecting pyaml>=16.9\n",
            "  Downloading pyaml-21.10.1-py2.py3-none-any.whl (24 kB)\n",
            "Requirement already satisfied: scikit-learn>=0.20.0 in /usr/local/lib/python3.7/dist-packages (from scikit-optimize) (0.22.2.post1)\n",
            "Requirement already satisfied: PyYAML in /usr/local/lib/python3.7/dist-packages (from pyaml>=16.9->scikit-optimize) (3.13)\n",
            "Installing collected packages: pyaml, scikit-optimize\n",
            "Successfully installed pyaml-21.10.1 scikit-optimize-0.9.0\n"
          ]
        }
      ]
    },
    {
      "cell_type": "code",
      "metadata": {
        "id": "rn-5CQfm1pmC"
      },
      "source": [
        "from google.colab import files\n",
        "import os\n",
        "import random\n",
        "import warnings\n",
        "warnings.filterwarnings(\"ignore\")\n",
        "\n",
        "import numpy as np\n",
        "import pandas as pd\n",
        "import matplotlib.pyplot as plt\n",
        "%matplotlib inline\n",
        "\n",
        "from scipy.sparse import csr_matrix\n",
        "\n",
        "from lightfm.cross_validation import random_train_test_split\n",
        "from lightfm.evaluation import auc_score, precision_at_k, recall_at_k\n",
        "from lightfm import LightFM\n",
        "from skopt import forest_minimize"
      ],
      "execution_count": 3,

      "outputs": []
    },
    {
      "cell_type": "markdown",
      "metadata": {
        "id": "fpdX5suS_xqD"
      },
      "source": [
        "## **데이터 로드**"
      ]
    },
    {
      "cell_type": "code",
      "metadata": {
        "colab": {
          "base_uri": "https://localhost:8080/"
        },
        "id": "BhR4CSeuq3Zz",
        "outputId": "bc4297a5-6334-428a-ec89-d6a121f0c7c7"
      },
      "source": [
        "from google.colab import drive\n",
        "drive.mount('/content/drive')"
      ],
      "execution_count": 4,

      "outputs": [
        {
          "output_type": "stream",
          "name": "stdout",
          "text": [
            "Drive already mounted at /content/drive; to attempt to forcibly remount, call drive.mount(\"/content/drive\", force_remount=True).\n"
          ]
        }
      ]
    },
    {
      "cell_type": "code",
      "metadata": {
        "id": "kvE9stB9175p"
      },
      "source": [
        "# file_path = \"/content/drive/MyDrive/AIFFEL/해커톤3/모델 검증_토이데이터_211010\"\n",
        "book_path = '/content/drive/MyDrive/AIFFEL/해커톤3/미니해커톤_토이모델구현/데이터_goodreads/book_data_log.csv'\n",
        "action_path = '/content/drive/MyDrive/AIFFEL/해커톤3/미니해커톤_토이모델구현/데이터_goodreads/action_data.csv'\n",
        "\n",
        "book = pd.read_csv(book_path)\n",
        "action = pd.read_csv(action_path)"
      ],
      "execution_count": 5,

      "outputs": []
    },
    {
      "cell_type": "code",
      "metadata": {
        "colab": {
          "base_uri": "https://localhost:8080/"
        },
        "id": "CxZH7KX99G9K",
        "outputId": "f0b54daf-2197-4ffc-f6ef-ecaae923bed9"
      },
      "source": [
        "print(book.shape)\n",
        "print(action.shape)"
      ],

      "execution_count": 6,

      "outputs": [
        {
          "output_type": "stream",
          "name": "stdout",
          "text": [
            "(19723, 18)\n",
            "(1313610, 4)\n"
          ]
        }
      ]
    },
    {
      "cell_type": "code",
      "metadata": {
        "colab": {
          "base_uri": "https://localhost:8080/",
          "height": 446
        },
        "id": "z_Msh_EA1ho4",
        "outputId": "c03df943-61ac-4d49-ac34-3d979dcbb34f"
      },
      "source": [
        "book.head()"
      ],
      "execution_count": 7,

      "outputs": [
        {
          "output_type": "execute_result",
          "data": {
            "text/html": [
              "<div>\n",
              "<style scoped>\n",
              "    .dataframe tbody tr th:only-of-type {\n",
              "        vertical-align: middle;\n",
              "    }\n",
              "\n",
              "    .dataframe tbody tr th {\n",
              "        vertical-align: top;\n",
              "    }\n",
              "\n",
              "    .dataframe thead th {\n",
              "        text-align: right;\n",
              "    }\n",
              "</style>\n",
              "<table border=\"1\" class=\"dataframe\">\n",
              "  <thead>\n",
              "    <tr style=\"text-align: right;\">\n",
              "      <th></th>\n",
              "      <th>Unnamed: 0</th>\n",
              "      <th>title</th>\n",
              "      <th>author_name</th>\n",
              "      <th>book_id</th>\n",
              "      <th>url</th>\n",
              "      <th>is_ebook</th>\n",
              "      <th>is_eng</th>\n",
              "      <th>num_pages</th>\n",
              "      <th>publication_year</th>\n",
              "      <th>publication_month</th>\n",
              "      <th>publication_day</th>\n",
              "      <th>average_rating</th>\n",
              "      <th>to_read</th>\n",
              "      <th>ratings_count</th>\n",
              "      <th>text_reviews_count</th>\n",
              "      <th>author_average_rating</th>\n",
              "      <th>author_ratings_count</th>\n",
              "      <th>author_text_reviews_count</th>\n",
              "    </tr>\n",
              "  </thead>\n",
              "  <tbody>\n",
              "    <tr>\n",
              "      <th>0</th>\n",
              "      <td>0</td>\n",
              "      <td>Vision of Sir Launfal and Other Poems</td>\n",
              "      <td>James Russell Lowell</td>\n",
              "      <td>16037549</td>\n",
              "      <td>https://www.goodreads.com/book/show/16037549-v...</td>\n",
              "      <td>0</td>\n",
              "      <td>1</td>\n",
              "      <td>4.394449</td>\n",
              "      <td>1887.0</td>\n",
              "      <td>11.0</td>\n",
              "      <td>1.0</td>\n",
              "      <td>3.83</td>\n",
              "      <td>2.197225</td>\n",
              "      <td>1.386294</td>\n",
              "      <td>0.693147</td>\n",
              "      <td>4.03</td>\n",
              "      <td>7.289611</td>\n",
              "      <td>5.068904</td>\n",
              "    </tr>\n",
              "    <tr>\n",
              "      <th>1</th>\n",
              "      <td>1</td>\n",
              "      <td>Fairy Tales: Dramolettes</td>\n",
              "      <td>Robert Walser</td>\n",
              "      <td>22466716</td>\n",
              "      <td>https://www.goodreads.com/book/show/22466716-f...</td>\n",
              "      <td>0</td>\n",
              "      <td>0</td>\n",
              "      <td>4.859812</td>\n",
              "      <td>2015.0</td>\n",
              "      <td>4.0</td>\n",
              "      <td>20.0</td>\n",
              "      <td>3.83</td>\n",
              "      <td>4.615121</td>\n",
              "      <td>3.637586</td>\n",
              "      <td>1.098612</td>\n",
              "      <td>4.02</td>\n",
              "      <td>9.245708</td>\n",
              "      <td>6.984716</td>\n",
              "    </tr>\n",
              "    <tr>\n",
              "      <th>2</th>\n",
              "      <td>2</td>\n",
              "      <td>Thirty Poems</td>\n",
              "      <td>Robert Walser</td>\n",
              "      <td>13447246</td>\n",
              "      <td>https://www.goodreads.com/book/show/13447246-t...</td>\n",
              "      <td>0</td>\n",
              "      <td>1</td>\n",
              "      <td>4.174387</td>\n",
              "      <td>2012.0</td>\n",
              "      <td>5.0</td>\n",
              "      <td>31.0</td>\n",
              "      <td>3.79</td>\n",
              "      <td>3.433987</td>\n",
              "      <td>3.688879</td>\n",
              "      <td>1.609438</td>\n",
              "      <td>4.02</td>\n",
              "      <td>9.245708</td>\n",
              "      <td>6.984716</td>\n",
              "    </tr>\n",
              "    <tr>\n",
              "      <th>3</th>\n",
              "      <td>3</td>\n",
              "      <td>Oppressive Light: Selected Poems by Robert Walser</td>\n",
              "      <td>Robert Walser</td>\n",
              "      <td>12740665</td>\n",
              "      <td>https://www.goodreads.com/book/show/12740665-o...</td>\n",
              "      <td>0</td>\n",
              "      <td>0</td>\n",
              "      <td>5.303305</td>\n",
              "      <td>2012.0</td>\n",
              "      <td>8.0</td>\n",
              "      <td>7.0</td>\n",
              "      <td>4.46</td>\n",
              "      <td>4.110874</td>\n",
              "      <td>3.295837</td>\n",
              "      <td>1.791759</td>\n",
              "      <td>4.02</td>\n",
              "      <td>9.245708</td>\n",
              "      <td>6.984716</td>\n",
              "    </tr>\n",
              "    <tr>\n",
              "      <th>4</th>\n",
              "      <td>5</td>\n",
              "      <td>The Cocktail Party</td>\n",
              "      <td>T.S. Eliot</td>\n",
              "      <td>926667</td>\n",
              "      <td>https://www.goodreads.com/book/show/926667.The...</td>\n",
              "      <td>0</td>\n",
              "      <td>0</td>\n",
              "      <td>5.252273</td>\n",
              "      <td>1964.0</td>\n",
              "      <td>3.0</td>\n",
              "      <td>18.0</td>\n",
              "      <td>3.71</td>\n",
              "      <td>6.318968</td>\n",
              "      <td>4.753590</td>\n",
              "      <td>2.564949</td>\n",
              "      <td>4.17</td>\n",
              "      <td>12.154553</td>\n",
              "      <td>8.681520</td>\n",
              "    </tr>\n",
              "  </tbody>\n",
              "</table>\n",
              "</div>"
            ],
            "text/plain": [
              "   Unnamed: 0  ... author_text_reviews_count\n",
              "0           0  ...                  5.068904\n",
              "1           1  ...                  6.984716\n",
              "2           2  ...                  6.984716\n",
              "3           3  ...                  6.984716\n",
              "4           5  ...                  8.681520\n",
              "\n",
              "[5 rows x 18 columns]"
            ]
          },
          "metadata": {},
          "execution_count": 7
        }
      ]
    },
    {
      "cell_type": "code",
      "metadata": {
        "colab": {
          "base_uri": "https://localhost:8080/",
          "height": 204
        },
        "id": "XXWd7j145Vgf",
        "outputId": "4b9dfec1-eeb0-42b1-e294-0c8e0baeccfa"
      },
      "source": [
        "action.head()"
      ],
      "execution_count": 8,

      "outputs": [
        {
          "output_type": "execute_result",
          "data": {
            "text/html": [
              "<div>\n",
              "<style scoped>\n",
              "    .dataframe tbody tr th:only-of-type {\n",
              "        vertical-align: middle;\n",
              "    }\n",
              "\n",
              "    .dataframe tbody tr th {\n",
              "        vertical-align: top;\n",
              "    }\n",
              "\n",
              "    .dataframe thead th {\n",
              "        text-align: right;\n",
              "    }\n",
              "</style>\n",
              "<table border=\"1\" class=\"dataframe\">\n",
              "  <thead>\n",
              "    <tr style=\"text-align: right;\">\n",
              "      <th></th>\n",
              "      <th>Unnamed: 0</th>\n",
              "      <th>user_id</th>\n",
              "      <th>book_id</th>\n",
              "      <th>rating</th>\n",
              "    </tr>\n",
              "  </thead>\n",
              "  <tbody>\n",
              "    <tr>\n",
              "      <th>0</th>\n",
              "      <td>0</td>\n",
              "      <td>8842281e1d1347389f2ab93d60773d4d</td>\n",
              "      <td>1384</td>\n",
              "      <td>4</td>\n",
              "    </tr>\n",
              "    <tr>\n",
              "      <th>1</th>\n",
              "      <td>1</td>\n",
              "      <td>8842281e1d1347389f2ab93d60773d4d</td>\n",
              "      <td>1376</td>\n",
              "      <td>4</td>\n",
              "    </tr>\n",
              "    <tr>\n",
              "      <th>2</th>\n",
              "      <td>2</td>\n",
              "      <td>8842281e1d1347389f2ab93d60773d4d</td>\n",
              "      <td>30119</td>\n",
              "      <td>5</td>\n",
              "    </tr>\n",
              "    <tr>\n",
              "      <th>3</th>\n",
              "      <td>4</td>\n",
              "      <td>72fb0d0087d28c832f15776b0d936598</td>\n",
              "      <td>30119</td>\n",
              "      <td>3</td>\n",
              "    </tr>\n",
              "    <tr>\n",
              "      <th>4</th>\n",
              "      <td>5</td>\n",
              "      <td>ab2923b738ea3082f5f3efcbbfacb218</td>\n",
              "      <td>240007</td>\n",
              "      <td>4</td>\n",
              "    </tr>\n",
              "  </tbody>\n",
              "</table>\n",
              "</div>"
            ],
            "text/plain": [
              "   Unnamed: 0                           user_id  book_id  rating\n",
              "0           0  8842281e1d1347389f2ab93d60773d4d     1384       4\n",
              "1           1  8842281e1d1347389f2ab93d60773d4d     1376       4\n",
              "2           2  8842281e1d1347389f2ab93d60773d4d    30119       5\n",
              "3           4  72fb0d0087d28c832f15776b0d936598    30119       3\n",
              "4           5  ab2923b738ea3082f5f3efcbbfacb218   240007       4"
            ]
          },
          "metadata": {},
          "execution_count": 8
        }
      ]
    },
    {
      "cell_type": "markdown",
      "metadata": {
        "id": "AnMaLxq0_10x"
      },
      "source": [
        "## **데이터 전처리**"
      ]
    },
    {
      "cell_type": "markdown",
      "metadata": {
        "id": "mhpP3hSdYMtJ"
      },
      "source": [
        "##### - 사용하지 않을 column 제거"
      ]
    },
    {
      "cell_type": "code",
      "metadata": {
        "id": "O6O-aeXy_-bP"
      },
      "source": [
        "book_data = book.drop(['Unnamed: 0', 'is_ebook', 'author_name', 'url'], axis=1)"
      ],
      "execution_count": 9,

      "outputs": []
    },
    {
      "cell_type": "code",
      "metadata": {
        "id": "pvk83dcoBzzP"
      },
      "source": [
        "action_data = action.drop(['Unnamed: 0'], axis=1)"
      ],

      "execution_count": 10,

      "outputs": []
    },
    {
      "cell_type": "markdown",
      "metadata": {
        "id": "tj7njLxkRlIN"
      },
      "source": [
        "##### - missing value & 중복 처리"
      ]
    },
    {
      "cell_type": "code",
      "metadata": {
        "id": "RDoLKQVjJMhl"
      },
      "source": [
        "book_data.dropna(inplace=True)\n",
        "action_data.dropna(inplace=True)"
      ],

      "execution_count": 11,

      "outputs": []
    },
    {
      "cell_type": "code",
      "metadata": {
        "id": "A4vviupHO-P-"
      },
      "source": [
        "book_data['num_pages'].replace(0, -1, inplace=True)\n",
        "book_data['publication_year'].replace(0, 2100, inplace=True)"
      ],

      "execution_count": 12,

      "outputs": []
    },
    {
      "cell_type": "code",
      "metadata": {
        "id": "iBuGxzFfSUGb"
      },
      "source": [
        "book_data.drop_duplicates(inplace=True)\n",
        "action_data.drop_duplicates(inplace=True)"
      ],

      "execution_count": 13,

      "outputs": []
    },
    {
      "cell_type": "code",
      "metadata": {
        "colab": {
          "base_uri": "https://localhost:8080/"
        },
        "id": "KssBYBZqFnZw",
        "outputId": "44308e5c-64c6-46c8-8b5a-a6093e0ca3b5"
      },
      "source": [
        "print(book_data.shape)\n",
        "print(action_data.shape)"
      ],

      "execution_count": 14,

      "outputs": [
        {
          "output_type": "stream",
          "name": "stdout",
          "text": [
            "(19723, 14)\n",
            "(1313610, 3)\n"
          ]
        }
      ]
    },
    {
      "cell_type": "markdown",
      "metadata": {
        "id": "lX0DcEzNhqeu"
      },
      "source": [
        "##### - 데이터 분포 확인 및 outlier 처리"
      ]
    },
    {
      "cell_type": "code",
      "metadata": {
        "colab": {
          "base_uri": "https://localhost:8080/"
        },
        "id": "_1nqo4plgj_r",
        "outputId": "34c1970e-7551-42a1-e5a5-d792417afb79"
      },
      "source": [
        "# book_data['publication_year'] = pd.to_numeric(book_data['publication_year'])\n",
        "book_data['publication_year'].describe()"
      ],
      "execution_count": 15,

      "outputs": [
        {
          "output_type": "execute_result",
          "data": {
            "text/plain": [
              "count    19723.000000\n",
              "mean      2004.374537\n",
              "std         11.509735\n",
              "min       1803.000000\n",
              "25%       2000.000000\n",
              "50%       2007.000000\n",
              "75%       2012.000000\n",
              "max       2018.000000\n",
              "Name: publication_year, dtype: float64"
            ]
          },
          "metadata": {},
          "execution_count": 15
        }
      ]
    },
    {
      "cell_type": "code",
      "metadata": {
        "colab": {
          "base_uri": "https://localhost:8080/",
          "height": 284
        },
        "id": "roJHCIZOiIC6",
        "outputId": "af4bed8c-30cd-44e4-f48a-11a3a4a2c719"
      },
      "source": [
        "book_data['publication_year'].plot.box()"
      ],
      "execution_count": 16,

      "outputs": [
        {
          "output_type": "execute_result",
          "data": {
            "text/plain": [
              "<matplotlib.axes._subplots.AxesSubplot at 0x7fd0cacdbd90>"
            ]
          },
          "metadata": {},
          "execution_count": 16
        },
        {
          "output_type": "display_data",
          "data": {
            "image/png": "[encoded data removed]",
            "text/plain": [
              "<Figure size 432x288 with 1 Axes>"
            ]
          },
          "metadata": {
            "needs_background": "light"
          }
        }
      ]
    },
    {
      "cell_type": "markdown",
      "metadata": {
        "id": "MFfxX8gxSE0K"
      },
      "source": [
        "##### - categorical column 처리"
      ]
    },
    {
      "cell_type": "code",
      "metadata": {
        "colab": {
          "base_uri": "https://localhost:8080/"
        },
        "id": "GS4J_bqkZXRd",
        "outputId": "05577233-58d1-4c66-ed16-656ed041b5c4"
      },
      "source": [
        "book_data['ratings_count'].describe()"
      ],
      "execution_count": 17,

      "outputs": [
        {
          "output_type": "execute_result",
          "data": {
            "text/plain": [
              "count    19723.000000\n",
              "mean         3.571618\n",
              "std          1.558912\n",
              "min          0.000000\n",
              "25%          2.484907\n",
              "50%          3.401197\n",
              "75%          4.442651\n",
              "max         13.431059\n",
              "Name: ratings_count, dtype: float64"
            ]
          },
          "metadata": {},
          "execution_count": 17
        }
      ]
    },
    {
      "cell_type": "code",
      "metadata": {
        "colab": {
          "base_uri": "https://localhost:8080/"
        },
        "id": "qe0Rbl3rTavz",
        "outputId": "8d08205c-0788-41fd-e9d0-2d2e5d239efa"
      },
      "source": [
        "# book_data['num_pages'] = pd.to_numeric(book_data['num_pages'])\n",
        "book_data['num_pages'].describe()"
      ],
      "execution_count": 18,

      "outputs": [
        {
          "output_type": "execute_result",
          "data": {
            "text/plain": [
              "count    19723.000000\n",
              "mean         4.842049\n",
              "std          0.846369\n",
              "min         -1.000000\n",
              "25%          4.394449\n",
              "50%          4.727388\n",
              "75%          5.379897\n",
              "max          8.222285\n",
              "Name: num_pages, dtype: float64"
            ]
          },
          "metadata": {},
          "execution_count": 18
        }
      ]
    },
    {
      "cell_type": "code",
      "metadata": {
        "colab": {
          "base_uri": "https://localhost:8080/",
          "height": 548
        },
        "id": "xL_hAhj14xrG",
        "outputId": "51bcdcd4-5a0f-44be-cf19-f09b449a07b0"
      },
      "source": [
        "book_data = book_data.sort_values('book_id').reset_index(drop=True)\n",
        "\n",
        "book_data.head()"
      ],
      "execution_count": 19,

      "outputs": [
        {
          "output_type": "execute_result",
          "data": {
            "text/html": [
              "<div>\n",
              "<style scoped>\n",
              "    .dataframe tbody tr th:only-of-type {\n",
              "        vertical-align: middle;\n",
              "    }\n",
              "\n",
              "    .dataframe tbody tr th {\n",
              "        vertical-align: top;\n",
              "    }\n",
              "\n",
              "    .dataframe thead th {\n",
              "        text-align: right;\n",
              "    }\n",
              "</style>\n",
              "<table border=\"1\" class=\"dataframe\">\n",
              "  <thead>\n",
              "    <tr style=\"text-align: right;\">\n",
              "      <th></th>\n",
              "      <th>title</th>\n",
              "      <th>book_id</th>\n",
              "      <th>is_eng</th>\n",
              "      <th>num_pages</th>\n",
              "      <th>publication_year</th>\n",
              "      <th>publication_month</th>\n",
              "      <th>publication_day</th>\n",
              "      <th>average_rating</th>\n",
              "      <th>to_read</th>\n",
              "      <th>ratings_count</th>\n",
              "      <th>text_reviews_count</th>\n",
              "      <th>author_average_rating</th>\n",
              "      <th>author_ratings_count</th>\n",
              "      <th>author_text_reviews_count</th>\n",
              "    </tr>\n",
              "  </thead>\n",
              "  <tbody>\n",
              "    <tr>\n",
              "      <th>0</th>\n",
              "      <td>The Complete Nonsense of Edward Lear</td>\n",
              "      <td>236</td>\n",
              "      <td>0</td>\n",
              "      <td>5.662960</td>\n",
              "      <td>1940.0</td>\n",
              "      <td>6.0</td>\n",
              "      <td>1.0</td>\n",
              "      <td>4.03</td>\n",
              "      <td>6.269096</td>\n",
              "      <td>5.774552</td>\n",
              "      <td>3.433987</td>\n",
              "      <td>4.04</td>\n",
              "      <td>9.622119</td>\n",
              "      <td>6.850126</td>\n",
              "    </tr>\n",
              "    <tr>\n",
              "      <th>1</th>\n",
              "      <td>A Was Once an Apple Pie</td>\n",
              "      <td>241</td>\n",
              "      <td>0</td>\n",
              "      <td>3.496508</td>\n",
              "      <td>2005.0</td>\n",
              "      <td>9.0</td>\n",
              "      <td>1.0</td>\n",
              "      <td>3.35</td>\n",
              "      <td>4.158883</td>\n",
              "      <td>5.049856</td>\n",
              "      <td>3.951244</td>\n",
              "      <td>4.04</td>\n",
              "      <td>9.622119</td>\n",
              "      <td>6.850126</td>\n",
              "    </tr>\n",
              "    <tr>\n",
              "      <th>2</th>\n",
              "      <td>The Puffin Book Of Nonsense Verse</td>\n",
              "      <td>244</td>\n",
              "      <td>1</td>\n",
              "      <td>5.662960</td>\n",
              "      <td>1996.0</td>\n",
              "      <td>10.0</td>\n",
              "      <td>3.0</td>\n",
              "      <td>4.04</td>\n",
              "      <td>4.189655</td>\n",
              "      <td>4.158883</td>\n",
              "      <td>1.945910</td>\n",
              "      <td>4.11</td>\n",
              "      <td>14.641536</td>\n",
              "      <td>10.975396</td>\n",
              "    </tr>\n",
              "    <tr>\n",
              "      <th>3</th>\n",
              "      <td>The Time of the Assassins:  a Study of Rimbaud</td>\n",
              "      <td>254</td>\n",
              "      <td>0</td>\n",
              "      <td>5.081404</td>\n",
              "      <td>1962.0</td>\n",
              "      <td>1.0</td>\n",
              "      <td>17.0</td>\n",
              "      <td>3.95</td>\n",
              "      <td>3.496508</td>\n",
              "      <td>6.599870</td>\n",
              "      <td>4.007333</td>\n",
              "      <td>3.81</td>\n",
              "      <td>11.598672</td>\n",
              "      <td>8.634976</td>\n",
              "    </tr>\n",
              "    <tr>\n",
              "      <th>4</th>\n",
              "      <td>A Treasury of Kahlil Gibran</td>\n",
              "      <td>284</td>\n",
              "      <td>0</td>\n",
              "      <td>6.124683</td>\n",
              "      <td>1976.0</td>\n",
              "      <td>1.0</td>\n",
              "      <td>1.0</td>\n",
              "      <td>4.42</td>\n",
              "      <td>5.789960</td>\n",
              "      <td>5.384495</td>\n",
              "      <td>2.397895</td>\n",
              "      <td>4.15</td>\n",
              "      <td>12.354975</td>\n",
              "      <td>9.432844</td>\n",
              "    </tr>\n",
              "  </tbody>\n",
              "</table>\n",
              "</div>"
            ],
            "text/plain": [
              "                                            title  ...  author_text_reviews_count\n",
              "0            The Complete Nonsense of Edward Lear  ...                   6.850126\n",
              "1                         A Was Once an Apple Pie  ...                   6.850126\n",
              "2               The Puffin Book Of Nonsense Verse  ...                  10.975396\n",
              "3  The Time of the Assassins:  a Study of Rimbaud  ...                   8.634976\n",
              "4                     A Treasury of Kahlil Gibran  ...                   9.432844\n",
              "\n",
              "[5 rows x 14 columns]"
            ]
          },
          "metadata": {},
          "execution_count": 19
        }
      ]
    },
    {
      "cell_type": "code",
      "metadata": {
        "id": "c1g1LXSJmBka"
      },
      "source": [
        "book_final = book_data.drop('title', axis=1).copy()"
      ],
      "execution_count": 20,

      "outputs": []
    },
    {
      "cell_type": "code",
      "metadata": {
        "id": "3nMWYIUNQm0k"
      },
      "source": [
        "# using pandas qcut method to convert fields into quantile-based discrete intervals\n",
        "book_final['publication_year'] = pd.qcut(book_final['publication_year'], 20, duplicates='drop')\n",
        "\n",
        "# rounding ratings to neares .5 score\n",
        "book_final['average_rating'] = book_final['average_rating'].apply(lambda x: round(x*2)/2)"
      ],
      "execution_count": 21,

      "outputs": []
    },
    {
      "cell_type": "code",
      "metadata": {
        "colab": {
          "base_uri": "https://localhost:8080/",
          "height": 224
        },
        "id": "nZCSMcFVDo1U",
        "outputId": "5d5b783a-83c1-419b-bb25-ac7df4d21b3d"
      },
      "source": [
        "book_final.head()"
      ],
      "execution_count": 22,

      "outputs": [
        {
          "output_type": "execute_result",
          "data": {
            "text/html": [
              "<div>\n",
              "<style scoped>\n",
              "    .dataframe tbody tr th:only-of-type {\n",
              "        vertical-align: middle;\n",
              "    }\n",
              "\n",
              "    .dataframe tbody tr th {\n",
              "        vertical-align: top;\n",
              "    }\n",
              "\n",
              "    .dataframe thead th {\n",
              "        text-align: right;\n",
              "    }\n",
              "</style>\n",
              "<table border=\"1\" class=\"dataframe\">\n",
              "  <thead>\n",
              "    <tr style=\"text-align: right;\">\n",
              "      <th></th>\n",
              "      <th>book_id</th>\n",
              "      <th>is_eng</th>\n",
              "      <th>num_pages</th>\n",
              "      <th>publication_year</th>\n",
              "      <th>publication_month</th>\n",
              "      <th>publication_day</th>\n",
              "      <th>average_rating</th>\n",
              "      <th>to_read</th>\n",
              "      <th>ratings_count</th>\n",
              "      <th>text_reviews_count</th>\n",
              "      <th>author_average_rating</th>\n",
              "      <th>author_ratings_count</th>\n",
              "      <th>author_text_reviews_count</th>\n",
              "    </tr>\n",
              "  </thead>\n",
              "  <tbody>\n",
              "    <tr>\n",
              "      <th>0</th>\n",
              "      <td>236</td>\n",
              "      <td>0</td>\n",
              "      <td>5.662960</td>\n",
              "      <td>(1802.999, 1982.0]</td>\n",
              "      <td>6.0</td>\n",
              "      <td>1.0</td>\n",
              "      <td>4.0</td>\n",
              "      <td>6.269096</td>\n",
              "      <td>5.774552</td>\n",
              "      <td>3.433987</td>\n",
              "      <td>4.04</td>\n",
              "      <td>9.622119</td>\n",
              "      <td>6.850126</td>\n",
              "    </tr>\n",
              "    <tr>\n",
              "      <th>1</th>\n",
              "      <td>241</td>\n",
              "      <td>0</td>\n",
              "      <td>3.496508</td>\n",
              "      <td>(2003.0, 2005.0]</td>\n",
              "      <td>9.0</td>\n",
              "      <td>1.0</td>\n",
              "      <td>3.5</td>\n",
              "      <td>4.158883</td>\n",
              "      <td>5.049856</td>\n",
              "      <td>3.951244</td>\n",
              "      <td>4.04</td>\n",
              "      <td>9.622119</td>\n",
              "      <td>6.850126</td>\n",
              "    </tr>\n",
              "    <tr>\n",
              "      <th>2</th>\n",
              "      <td>244</td>\n",
              "      <td>1</td>\n",
              "      <td>5.662960</td>\n",
              "      <td>(1995.0, 1998.0]</td>\n",
              "      <td>10.0</td>\n",
              "      <td>3.0</td>\n",
              "      <td>4.0</td>\n",
              "      <td>4.189655</td>\n",
              "      <td>4.158883</td>\n",
              "      <td>1.945910</td>\n",
              "      <td>4.11</td>\n",
              "      <td>14.641536</td>\n",
              "      <td>10.975396</td>\n",
              "    </tr>\n",
              "    <tr>\n",
              "      <th>3</th>\n",
              "      <td>254</td>\n",
              "      <td>0</td>\n",
              "      <td>5.081404</td>\n",
              "      <td>(1802.999, 1982.0]</td>\n",
              "      <td>1.0</td>\n",
              "      <td>17.0</td>\n",
              "      <td>4.0</td>\n",
              "      <td>3.496508</td>\n",
              "      <td>6.599870</td>\n",
              "      <td>4.007333</td>\n",
              "      <td>3.81</td>\n",
              "      <td>11.598672</td>\n",
              "      <td>8.634976</td>\n",
              "    </tr>\n",
              "    <tr>\n",
              "      <th>4</th>\n",
              "      <td>284</td>\n",
              "      <td>0</td>\n",
              "      <td>6.124683</td>\n",
              "      <td>(1802.999, 1982.0]</td>\n",
              "      <td>1.0</td>\n",
              "      <td>1.0</td>\n",
              "      <td>4.5</td>\n",
              "      <td>5.789960</td>\n",
              "      <td>5.384495</td>\n",
              "      <td>2.397895</td>\n",
              "      <td>4.15</td>\n",
              "      <td>12.354975</td>\n",
              "      <td>9.432844</td>\n",
              "    </tr>\n",
              "  </tbody>\n",
              "</table>\n",
              "</div>"
            ],
            "text/plain": [
              "   book_id  is_eng  ...  author_ratings_count author_text_reviews_count\n",
              "0      236       0  ...              9.622119                  6.850126\n",
              "1      241       0  ...              9.622119                  6.850126\n",
              "2      244       1  ...             14.641536                 10.975396\n",
              "3      254       0  ...             11.598672                  8.634976\n",
              "4      284       0  ...             12.354975                  9.432844\n",
              "\n",
              "[5 rows x 13 columns]"
            ]
          },
          "metadata": {},
          "execution_count": 22
        }
      ]
    },
    {
      "cell_type": "code",
      "metadata": {
        "id": "6pT6dGDSfn-H"
      },
      "source": [
        "# dummify categorical features\n",
        "book_final = pd.get_dummies(book_final, columns=['average_rating', 'publication_year'])"
      ],
      "execution_count": 23,

      "outputs": []
    },
    {
      "cell_type": "code",
      "metadata": {
        "colab": {
          "base_uri": "https://localhost:8080/",
          "height": 241
        },
        "id": "pXWA1UAolzun",
        "outputId": "dba30b10-41db-4804-bb6d-355316feb9fc"
      },
      "source": [
        "book_final.sample(5)"
      ],
      "execution_count": 24,

      "outputs": [
        {
          "output_type": "execute_result",
          "data": {
            "text/html": [
              "<div>\n",
              "<style scoped>\n",
              "    .dataframe tbody tr th:only-of-type {\n",
              "        vertical-align: middle;\n",
              "    }\n",
              "\n",
              "    .dataframe tbody tr th {\n",
              "        vertical-align: top;\n",
              "    }\n",
              "\n",
              "    .dataframe thead th {\n",
              "        text-align: right;\n",
              "    }\n",
              "</style>\n",
              "<table border=\"1\" class=\"dataframe\">\n",
              "  <thead>\n",
              "    <tr style=\"text-align: right;\">\n",
              "      <th></th>\n",
              "      <th>book_id</th>\n",
              "      <th>is_eng</th>\n",
              "      <th>num_pages</th>\n",
              "      <th>publication_month</th>\n",
              "      <th>publication_day</th>\n",
              "      <th>to_read</th>\n",
              "      <th>ratings_count</th>\n",
              "      <th>text_reviews_count</th>\n",
              "      <th>author_average_rating</th>\n",
              "      <th>author_ratings_count</th>\n",
              "      <th>author_text_reviews_count</th>\n",
              "      <th>average_rating_0.0</th>\n",
              "      <th>average_rating_1.0</th>\n",
              "      <th>average_rating_1.5</th>\n",
              "      <th>average_rating_2.0</th>\n",
              "      <th>average_rating_2.5</th>\n",
              "      <th>average_rating_3.0</th>\n",
              "      <th>average_rating_3.5</th>\n",
              "      <th>average_rating_4.0</th>\n",
              "      <th>average_rating_4.5</th>\n",
              "      <th>average_rating_5.0</th>\n",
              "      <th>publication_year_(1802.999, 1982.0]</th>\n",
              "      <th>publication_year_(1982.0, 1990.0]</th>\n",
              "      <th>publication_year_(1990.0, 1995.0]</th>\n",
              "      <th>publication_year_(1995.0, 1998.0]</th>\n",
              "      <th>publication_year_(1998.0, 2000.0]</th>\n",
              "      <th>publication_year_(2000.0, 2002.0]</th>\n",
              "      <th>publication_year_(2002.0, 2003.0]</th>\n",
              "      <th>publication_year_(2003.0, 2005.0]</th>\n",
              "      <th>publication_year_(2005.0, 2006.0]</th>\n",
              "      <th>publication_year_(2006.0, 2007.0]</th>\n",
              "      <th>publication_year_(2007.0, 2008.0]</th>\n",
              "      <th>publication_year_(2008.0, 2009.0]</th>\n",
              "      <th>publication_year_(2009.0, 2010.0]</th>\n",
              "      <th>publication_year_(2010.0, 2012.0]</th>\n",
              "      <th>publication_year_(2012.0, 2013.0]</th>\n",
              "      <th>publication_year_(2013.0, 2014.0]</th>\n",
              "      <th>publication_year_(2014.0, 2015.0]</th>\n",
              "      <th>publication_year_(2015.0, 2016.0]</th>\n",
              "      <th>publication_year_(2016.0, 2018.0]</th>\n",
              "    </tr>\n",
              "  </thead>\n",
              "  <tbody>\n",
              "    <tr>\n",
              "      <th>6691</th>\n",
              "      <td>1178968</td>\n",
              "      <td>0</td>\n",
              "      <td>4.955827</td>\n",
              "      <td>1.0</td>\n",
              "      <td>1.0</td>\n",
              "      <td>1.791759</td>\n",
              "      <td>1.945910</td>\n",
              "      <td>0.693147</td>\n",
              "      <td>3.82</td>\n",
              "      <td>2.484907</td>\n",
              "      <td>1.386294</td>\n",
              "      <td>0</td>\n",
              "      <td>0</td>\n",
              "      <td>0</td>\n",
              "      <td>0</td>\n",
              "      <td>0</td>\n",
              "      <td>0</td>\n",
              "      <td>1</td>\n",
              "      <td>0</td>\n",
              "      <td>0</td>\n",
              "      <td>0</td>\n",
              "      <td>0</td>\n",
              "      <td>0</td>\n",
              "      <td>0</td>\n",
              "      <td>0</td>\n",
              "      <td>0</td>\n",
              "      <td>1</td>\n",
              "      <td>0</td>\n",
              "      <td>0</td>\n",
              "      <td>0</td>\n",
              "      <td>0</td>\n",
              "      <td>0</td>\n",
              "      <td>0</td>\n",
              "      <td>0</td>\n",
              "      <td>0</td>\n",
              "      <td>0</td>\n",
              "      <td>0</td>\n",
              "      <td>0</td>\n",
              "      <td>0</td>\n",
              "      <td>0</td>\n",
              "    </tr>\n",
              "    <tr>\n",
              "      <th>6734</th>\n",
              "      <td>1192108</td>\n",
              "      <td>0</td>\n",
              "      <td>4.727388</td>\n",
              "      <td>1.0</td>\n",
              "      <td>1.0</td>\n",
              "      <td>1.791759</td>\n",
              "      <td>2.484907</td>\n",
              "      <td>1.386294</td>\n",
              "      <td>4.29</td>\n",
              "      <td>3.737670</td>\n",
              "      <td>1.945910</td>\n",
              "      <td>0</td>\n",
              "      <td>0</td>\n",
              "      <td>0</td>\n",
              "      <td>0</td>\n",
              "      <td>0</td>\n",
              "      <td>0</td>\n",
              "      <td>0</td>\n",
              "      <td>1</td>\n",
              "      <td>0</td>\n",
              "      <td>0</td>\n",
              "      <td>0</td>\n",
              "      <td>0</td>\n",
              "      <td>0</td>\n",
              "      <td>0</td>\n",
              "      <td>0</td>\n",
              "      <td>0</td>\n",
              "      <td>0</td>\n",
              "      <td>1</td>\n",
              "      <td>0</td>\n",
              "      <td>0</td>\n",
              "      <td>0</td>\n",
              "      <td>0</td>\n",
              "      <td>0</td>\n",
              "      <td>0</td>\n",
              "      <td>0</td>\n",
              "      <td>0</td>\n",
              "      <td>0</td>\n",
              "      <td>0</td>\n",
              "      <td>0</td>\n",
              "    </tr>\n",
              "    <tr>\n",
              "      <th>1575</th>\n",
              "      <td>150266</td>\n",
              "      <td>0</td>\n",
              "      <td>6.142037</td>\n",
              "      <td>12.0</td>\n",
              "      <td>17.0</td>\n",
              "      <td>8.225235</td>\n",
              "      <td>6.175867</td>\n",
              "      <td>3.583519</td>\n",
              "      <td>4.35</td>\n",
              "      <td>8.643121</td>\n",
              "      <td>5.786897</td>\n",
              "      <td>0</td>\n",
              "      <td>0</td>\n",
              "      <td>0</td>\n",
              "      <td>0</td>\n",
              "      <td>0</td>\n",
              "      <td>0</td>\n",
              "      <td>0</td>\n",
              "      <td>0</td>\n",
              "      <td>1</td>\n",
              "      <td>0</td>\n",
              "      <td>0</td>\n",
              "      <td>0</td>\n",
              "      <td>0</td>\n",
              "      <td>0</td>\n",
              "      <td>0</td>\n",
              "      <td>1</td>\n",
              "      <td>0</td>\n",
              "      <td>0</td>\n",
              "      <td>0</td>\n",
              "      <td>0</td>\n",
              "      <td>0</td>\n",
              "      <td>0</td>\n",
              "      <td>0</td>\n",
              "      <td>0</td>\n",
              "      <td>0</td>\n",
              "      <td>0</td>\n",
              "      <td>0</td>\n",
              "      <td>0</td>\n",
              "      <td>0</td>\n",
              "    </tr>\n",
              "    <tr>\n",
              "      <th>8460</th>\n",
              "      <td>1986053</td>\n",
              "      <td>0</td>\n",
              "      <td>4.204693</td>\n",
              "      <td>8.0</td>\n",
              "      <td>12.0</td>\n",
              "      <td>2.079442</td>\n",
              "      <td>2.484907</td>\n",
              "      <td>1.098612</td>\n",
              "      <td>3.94</td>\n",
              "      <td>5.484797</td>\n",
              "      <td>3.555348</td>\n",
              "      <td>0</td>\n",
              "      <td>0</td>\n",
              "      <td>0</td>\n",
              "      <td>0</td>\n",
              "      <td>0</td>\n",
              "      <td>0</td>\n",
              "      <td>0</td>\n",
              "      <td>0</td>\n",
              "      <td>1</td>\n",
              "      <td>0</td>\n",
              "      <td>0</td>\n",
              "      <td>1</td>\n",
              "      <td>0</td>\n",
              "      <td>0</td>\n",
              "      <td>0</td>\n",
              "      <td>0</td>\n",
              "      <td>0</td>\n",
              "      <td>0</td>\n",
              "      <td>0</td>\n",
              "      <td>0</td>\n",
              "      <td>0</td>\n",
              "      <td>0</td>\n",
              "      <td>0</td>\n",
              "      <td>0</td>\n",
              "      <td>0</td>\n",
              "      <td>0</td>\n",
              "      <td>0</td>\n",
              "      <td>0</td>\n",
              "      <td>0</td>\n",
              "    </tr>\n",
              "    <tr>\n",
              "      <th>16864</th>\n",
              "      <td>22608141</td>\n",
              "      <td>1</td>\n",
              "      <td>3.761200</td>\n",
              "      <td>6.0</td>\n",
              "      <td>25.0</td>\n",
              "      <td>5.123964</td>\n",
              "      <td>2.197225</td>\n",
              "      <td>1.791759</td>\n",
              "      <td>4.25</td>\n",
              "      <td>5.209486</td>\n",
              "      <td>4.248495</td>\n",
              "      <td>0</td>\n",
              "      <td>0</td>\n",
              "      <td>0</td>\n",
              "      <td>0</td>\n",
              "      <td>0</td>\n",
              "      <td>0</td>\n",
              "      <td>0</td>\n",
              "      <td>1</td>\n",
              "      <td>0</td>\n",
              "      <td>0</td>\n",
              "      <td>0</td>\n",
              "      <td>0</td>\n",
              "      <td>0</td>\n",
              "      <td>0</td>\n",
              "      <td>0</td>\n",
              "      <td>0</td>\n",
              "      <td>0</td>\n",
              "      <td>0</td>\n",
              "      <td>0</td>\n",
              "      <td>0</td>\n",
              "      <td>0</td>\n",
              "      <td>0</td>\n",
              "      <td>0</td>\n",
              "      <td>0</td>\n",
              "      <td>0</td>\n",
              "      <td>1</td>\n",
              "      <td>0</td>\n",
              "      <td>0</td>\n",
              "      <td>0</td>\n",
              "    </tr>\n",
              "  </tbody>\n",
              "</table>\n",
              "</div>"
            ],
            "text/plain": [
              "        book_id  ...  publication_year_(2016.0, 2018.0]\n",
              "6691    1178968  ...                                  0\n",
              "6734    1192108  ...                                  0\n",
              "1575     150266  ...                                  0\n",
              "8460    1986053  ...                                  0\n",
              "16864  22608141  ...                                  0\n",
              "\n",
              "[5 rows x 40 columns]"
            ]
          },
          "metadata": {},
          "execution_count": 24
        }
      ]
    },
    {
      "cell_type": "code",
      "metadata": {
        "id": "HWhC2jE8xvHW"
      },
      "source": [
        "action_final = action_data.copy()"
      ],
      "execution_count": 25,

      "outputs": []
    },
    {
      "cell_type": "code",
      "metadata": {
        "id": "KgJtDayRxyzt",
        "colab": {
          "base_uri": "https://localhost:8080/",
          "height": 204
        },
        "outputId": "be0a37c4-a934-46fe-f61d-b23db1850ea8"
      },
      "source": [
        "action_final = action_final[action_final['rating'] != 0]\n",
        "action_final.head()"
      ],

      "execution_count": 87,

      "outputs": [
        {
          "output_type": "execute_result",
          "data": {
            "text/html": [
              "<div>\n",
              "<style scoped>\n",
              "    .dataframe tbody tr th:only-of-type {\n",
              "        vertical-align: middle;\n",
              "    }\n",
              "\n",
              "    .dataframe tbody tr th {\n",
              "        vertical-align: top;\n",
              "    }\n",
              "\n",
              "    .dataframe thead th {\n",
              "        text-align: right;\n",
              "    }\n",
              "</style>\n",
              "<table border=\"1\" class=\"dataframe\">\n",
              "  <thead>\n",
              "    <tr style=\"text-align: right;\">\n",
              "      <th></th>\n",
              "      <th>user_id</th>\n",
              "      <th>book_id</th>\n",
              "      <th>rating</th>\n",
              "    </tr>\n",
              "  </thead>\n",
              "  <tbody>\n",
              "    <tr>\n",
              "      <th>0</th>\n",
              "      <td>8842281e1d1347389f2ab93d60773d4d</td>\n",
              "      <td>1384</td>\n",
              "      <td>4</td>\n",
              "    </tr>\n",
              "    <tr>\n",
              "      <th>1</th>\n",
              "      <td>8842281e1d1347389f2ab93d60773d4d</td>\n",
              "      <td>1376</td>\n",
              "      <td>4</td>\n",
              "    </tr>\n",
              "    <tr>\n",
              "      <th>2</th>\n",
              "      <td>8842281e1d1347389f2ab93d60773d4d</td>\n",
              "      <td>30119</td>\n",
              "      <td>5</td>\n",
              "    </tr>\n",
              "    <tr>\n",
              "      <th>3</th>\n",
              "      <td>72fb0d0087d28c832f15776b0d936598</td>\n",
              "      <td>30119</td>\n",
              "      <td>3</td>\n",
              "    </tr>\n",
              "    <tr>\n",
              "      <th>4</th>\n",
              "      <td>ab2923b738ea3082f5f3efcbbfacb218</td>\n",
              "      <td>240007</td>\n",
              "      <td>4</td>\n",
              "    </tr>\n",
              "  </tbody>\n",
              "</table>\n",
              "</div>"
            ],
            "text/plain": [
              "                            user_id  book_id  rating\n",
              "0  8842281e1d1347389f2ab93d60773d4d     1384       4\n",
              "1  8842281e1d1347389f2ab93d60773d4d     1376       4\n",
              "2  8842281e1d1347389f2ab93d60773d4d    30119       5\n",
              "3  72fb0d0087d28c832f15776b0d936598    30119       3\n",
              "4  ab2923b738ea3082f5f3efcbbfacb218   240007       4"
            ]
          },
          "metadata": {},
          "execution_count": 87
        }
      ]
    },
    {
      "cell_type": "code",
      "metadata": {
        "colab": {
          "base_uri": "https://localhost:8080/"
        },
        "id": "N9880g0gAi-L",
        "outputId": "b6312716-815b-4d7a-e991-90a334d46d82"
      },
      "source": [
        "print(book_final.shape)\n",
        "print(action_final.shape)"
      ],

      "execution_count": 27,

      "outputs": [
        {
          "output_type": "stream",
          "name": "stdout",
          "text": [
            "(19723, 40)\n",
            "(1229059, 3)\n"
          ]
        }
      ]
    },
    {
      "cell_type": "markdown",
      "metadata": {
        "id": "vhhLJzBPL-rY"
      },
      "source": [
        "## **CSR Matrix 생성**"
      ]
    },
    {
      "cell_type": "markdown",
      "metadata": {
        "id": "A3xrbKuTzHHi"
      },
      "source": [
        "##### - item dictionary 생성"
      ]
    },
    {
      "cell_type": "code",
      "metadata": {
        "id": "e6yAHWnp3OQs"
      },
      "source": [
        "df = book_data[['book_id', 'title']]\n",
        "df.reset_index(inplace=True)"
      ],
      "execution_count": 28,

      "outputs": []
    },
    {
      "cell_type": "code",
      "metadata": {
        "colab": {
          "base_uri": "https://localhost:8080/",
          "height": 419
        },
        "id": "sWmN-4fS3Rx4",
        "outputId": "e7ecf2db-2dc5-4e7a-878f-c335d1a2ebc1"
      },
      "source": [
        "df"
      ],

      "execution_count": 29,

      "outputs": [
        {
          "output_type": "execute_result",
          "data": {
            "text/html": [
              "<div>\n",
              "<style scoped>\n",
              "    .dataframe tbody tr th:only-of-type {\n",
              "        vertical-align: middle;\n",
              "    }\n",
              "\n",
              "    .dataframe tbody tr th {\n",
              "        vertical-align: top;\n",
              "    }\n",
              "\n",
              "    .dataframe thead th {\n",
              "        text-align: right;\n",
              "    }\n",
              "</style>\n",
              "<table border=\"1\" class=\"dataframe\">\n",
              "  <thead>\n",
              "    <tr style=\"text-align: right;\">\n",
              "      <th></th>\n",
              "      <th>index</th>\n",
              "      <th>book_id</th>\n",
              "      <th>title</th>\n",
              "    </tr>\n",
              "  </thead>\n",
              "  <tbody>\n",
              "    <tr>\n",
              "      <th>0</th>\n",
              "      <td>0</td>\n",
              "      <td>236</td>\n",
              "      <td>The Complete Nonsense of Edward Lear</td>\n",
              "    </tr>\n",
              "    <tr>\n",
              "      <th>1</th>\n",
              "      <td>1</td>\n",
              "      <td>241</td>\n",
              "      <td>A Was Once an Apple Pie</td>\n",
              "    </tr>\n",
              "    <tr>\n",
              "      <th>2</th>\n",
              "      <td>2</td>\n",
              "      <td>244</td>\n",
              "      <td>The Puffin Book Of Nonsense Verse</td>\n",
              "    </tr>\n",
              "    <tr>\n",
              "      <th>3</th>\n",
              "      <td>3</td>\n",
              "      <td>254</td>\n",
              "      <td>The Time of the Assassins:  a Study of Rimbaud</td>\n",
              "    </tr>\n",
              "    <tr>\n",
              "      <th>4</th>\n",
              "      <td>4</td>\n",
              "      <td>284</td>\n",
              "      <td>A Treasury of Kahlil Gibran</td>\n",
              "    </tr>\n",
              "    <tr>\n",
              "      <th>...</th>\n",
              "      <td>...</td>\n",
              "      <td>...</td>\n",
              "      <td>...</td>\n",
              "    </tr>\n",
              "    <tr>\n",
              "      <th>19718</th>\n",
              "      <td>19718</td>\n",
              "      <td>36387428</td>\n",
              "      <td>Lounaalla</td>\n",
              "    </tr>\n",
              "    <tr>\n",
              "      <th>19719</th>\n",
              "      <td>19719</td>\n",
              "      <td>36390749</td>\n",
              "      <td>Ocean Deep</td>\n",
              "    </tr>\n",
              "    <tr>\n",
              "      <th>19720</th>\n",
              "      <td>19720</td>\n",
              "      <td>36403877</td>\n",
              "      <td>Calling a Wolf a Wolf</td>\n",
              "    </tr>\n",
              "    <tr>\n",
              "      <th>19721</th>\n",
              "      <td>19721</td>\n",
              "      <td>36407928</td>\n",
              "      <td>Poezje</td>\n",
              "    </tr>\n",
              "    <tr>\n",
              "      <th>19722</th>\n",
              "      <td>19722</td>\n",
              "      <td>36441514</td>\n",
              "      <td>soft in the middle</td>\n",
              "    </tr>\n",
              "  </tbody>\n",
              "</table>\n",
              "<p>19723 rows × 3 columns</p>\n",
              "</div>"
            ],
            "text/plain": [
              "       index   book_id                                           title\n",
              "0          0       236            The Complete Nonsense of Edward Lear\n",
              "1          1       241                         A Was Once an Apple Pie\n",
              "2          2       244               The Puffin Book Of Nonsense Verse\n",
              "3          3       254  The Time of the Assassins:  a Study of Rimbaud\n",
              "4          4       284                     A Treasury of Kahlil Gibran\n",
              "...      ...       ...                                             ...\n",
              "19718  19718  36387428                                       Lounaalla\n",
              "19719  19719  36390749                                      Ocean Deep\n",
              "19720  19720  36403877                           Calling a Wolf a Wolf\n",
              "19721  19721  36407928                                          Poezje\n",
              "19722  19722  36441514                              soft in the middle\n",
              "\n",
              "[19723 rows x 3 columns]"
            ]
          },
          "metadata": {},
          "execution_count": 29
        }
      ]
    },
    {
      "cell_type": "code",
      "metadata": {
        "id": "t87N67Wly6DK"
      },
      "source": [
        "item_dict = {}\n",
        "\n",
        "for i in range(df.shape[0]):\n",
        "    item_dict[(df.loc[i,'book_id'])] = df.loc[i,'title']"
      ],

      "execution_count": 30,

      "outputs": []
    },
    {
      "cell_type": "code",
      "metadata": {
        "id": "a4Hx3uDsL89K",
        "colab": {
          "base_uri": "https://localhost:8080/",
          "height": 35
        },
        "outputId": "2109e64f-6839-4a0a-c5ab-46fb8d40cacc"
      },
      "source": [
        "item_dict[36387428]"
      ],

      "execution_count": 31,

      "outputs": [
        {
          "output_type": "execute_result",
          "data": {
            "application/vnd.google.colaboratory.intrinsic+json": {
              "type": "string"
            },
            "text/plain": [
              "'Lounaalla'"
            ]
          },
          "metadata": {},
          "execution_count": 31
        }
      ]
    },
    {
      "cell_type": "markdown",
      "metadata": {
        "id": "x5OnmgPg1GoC"
      },
      "source": [
        "##### - train, test 데이터셋 split -> csr matrix 생성"
      ]
    },
    {
      "cell_type": "code",
      "metadata": {
        "colab": {
          "base_uri": "https://localhost:8080/"
        },
        "id": "_JK6aL0S0UIS",
        "outputId": "6a1b873b-215a-4548-bf30-6497d8b1b121"
      },
      "source": [
        "book_csr = csr_matrix(book_final.drop('book_id', axis=1).values)\n",
        "book_csr"
      ],

      "execution_count": 32,

      "outputs": [
        {
          "output_type": "execute_result",
          "data": {
            "text/plain": [
              "<19723x39 sparse matrix of type '<class 'numpy.float64'>'\n",
              "\twith 222583 stored elements in Compressed Sparse Row format>"
            ]
          },
          "metadata": {},
          "execution_count": 32
        }
      ]
    },
    {
      "cell_type": "code",
      "metadata": {
        "colab": {
          "base_uri": "https://localhost:8080/"
        },
        "id": "P8NuxPaGEjiW",
        "outputId": "731c705f-45db-4b18-fac9-e79e2b22baec"
      },
      "source": [
        "action_final.shape"
      ],

      "execution_count": 33,

      "outputs": [
        {
          "output_type": "execute_result",
          "data": {
            "text/plain": [
              "(1229059, 3)"
            ]
          },
          "metadata": {},
          "execution_count": 33
        }
      ]
    },
    {
      "cell_type": "code",
      "metadata": {
        "id": "YyYv6pA6GF3C"
      },
      "source": [
        "action_sample = action_final.loc[action_final['user_id'].isin(random.sample(list(action_final['user_id'].unique()), k=30000))]"
      ],

      "execution_count": 34,

      "outputs": []
    },
    {
      "cell_type": "code",
      "metadata": {
        "colab": {
          "base_uri": "https://localhost:8080/",
          "height": 284
        },
        "id": "tdAW8poc2IR1",
        "outputId": "6359ff52-0f2a-41c1-cb57-f6ec59403777"
      },
      "source": [
        "# interaction matrix\n",
        "interaction = pd.pivot_table(action_sample, index='user_id', columns='book_id', values='rating')\n",
        "\n",
        "# fill missing values with 0\n",
        "interaction = interaction.fillna(0)\n",
        "\n",
        "interaction.head()"
      ],

      "execution_count": 35,

      "outputs": [
        {
          "output_type": "execute_result",
          "data": {
            "text/html": [
              "<div>\n",
              "<style scoped>\n",
              "    .dataframe tbody tr th:only-of-type {\n",
              "        vertical-align: middle;\n",
              "    }\n",
              "\n",
              "    .dataframe tbody tr th {\n",
              "        vertical-align: top;\n",
              "    }\n",
              "\n",
              "    .dataframe thead th {\n",
              "        text-align: right;\n",
              "    }\n",
              "</style>\n",
              "<table border=\"1\" class=\"dataframe\">\n",
              "  <thead>\n",
              "    <tr style=\"text-align: right;\">\n",
              "      <th>book_id</th>\n",
              "      <th>234</th>\n",
              "      <th>236</th>\n",
              "      <th>241</th>\n",
              "      <th>244</th>\n",
              "      <th>254</th>\n",
              "      <th>284</th>\n",
              "      <th>285</th>\n",
              "      <th>286</th>\n",
              "      <th>289</th>\n",
              "      <th>290</th>\n",
              "      <th>291</th>\n",
              "      <th>292</th>\n",
              "      <th>448</th>\n",
              "      <th>459</th>\n",
              "      <th>462</th>\n",
              "      <th>484</th>\n",
              "      <th>676</th>\n",
              "      <th>1371</th>\n",
              "      <th>1372</th>\n",
              "      <th>1373</th>\n",
              "      <th>1374</th>\n",
              "      <th>1376</th>\n",
              "      <th>1377</th>\n",
              "      <th>1378</th>\n",
              "      <th>1381</th>\n",
              "      <th>1382</th>\n",
              "      <th>1383</th>\n",
              "      <th>1384</th>\n",
              "      <th>1387</th>\n",
              "      <th>1388</th>\n",
              "      <th>1392</th>\n",
              "      <th>1402</th>\n",
              "      <th>1403</th>\n",
              "      <th>1405</th>\n",
              "      <th>1407</th>\n",
              "      <th>1414</th>\n",
              "      <th>1416</th>\n",
              "      <th>1417</th>\n",
              "      <th>1420</th>\n",
              "      <th>1421</th>\n",
              "      <th>...</th>\n",
              "      <th>35663570</th>\n",
              "      <th>35668923</th>\n",
              "      <th>35673154</th>\n",
              "      <th>35691576</th>\n",
              "      <th>35693670</th>\n",
              "      <th>35704999</th>\n",
              "      <th>35752056</th>\n",
              "      <th>35784849</th>\n",
              "      <th>35834374</th>\n",
              "      <th>35835617</th>\n",
              "      <th>35887236</th>\n",
              "      <th>35894556</th>\n",
              "      <th>35897777</th>\n",
              "      <th>35905478</th>\n",
              "      <th>35919520</th>\n",
              "      <th>35960350</th>\n",
              "      <th>35991559</th>\n",
              "      <th>35994679</th>\n",
              "      <th>36011645</th>\n",
              "      <th>36038841</th>\n",
              "      <th>36056405</th>\n",
              "      <th>36059170</th>\n",
              "      <th>36064679</th>\n",
              "      <th>36070215</th>\n",
              "      <th>36075107</th>\n",
              "      <th>36096745</th>\n",
              "      <th>36118881</th>\n",
              "      <th>36122873</th>\n",
              "      <th>36126998</th>\n",
              "      <th>36150827</th>\n",
              "      <th>36232007</th>\n",
              "      <th>36241067</th>\n",
              "      <th>36263633</th>\n",
              "      <th>36274683</th>\n",
              "      <th>36282926</th>\n",
              "      <th>36350410</th>\n",
              "      <th>36365232</th>\n",
              "      <th>36392878</th>\n",
              "      <th>36392890</th>\n",
              "      <th>36417323</th>\n",
              "    </tr>\n",
              "    <tr>\n",
              "      <th>user_id</th>\n",
              "      <th></th>\n",
              "      <th></th>\n",
              "      <th></th>\n",
              "      <th></th>\n",
              "      <th></th>\n",
              "      <th></th>\n",
              "      <th></th>\n",
              "      <th></th>\n",
              "      <th></th>\n",
              "      <th></th>\n",
              "      <th></th>\n",
              "      <th></th>\n",
              "      <th></th>\n",
              "      <th></th>\n",
              "      <th></th>\n",
              "      <th></th>\n",
              "      <th></th>\n",
              "      <th></th>\n",
              "      <th></th>\n",
              "      <th></th>\n",
              "      <th></th>\n",
              "      <th></th>\n",
              "      <th></th>\n",
              "      <th></th>\n",
              "      <th></th>\n",
              "      <th></th>\n",
              "      <th></th>\n",
              "      <th></th>\n",
              "      <th></th>\n",
              "      <th></th>\n",
              "      <th></th>\n",
              "      <th></th>\n",
              "      <th></th>\n",
              "      <th></th>\n",
              "      <th></th>\n",
              "      <th></th>\n",
              "      <th></th>\n",
              "      <th></th>\n",
              "      <th></th>\n",
              "      <th></th>\n",
              "      <th></th>\n",
              "      <th></th>\n",
              "      <th></th>\n",
              "      <th></th>\n",
              "      <th></th>\n",
              "      <th></th>\n",
              "      <th></th>\n",
              "      <th></th>\n",
              "      <th></th>\n",
              "      <th></th>\n",
              "      <th></th>\n",
              "      <th></th>\n",
              "      <th></th>\n",
              "      <th></th>\n",
              "      <th></th>\n",
              "      <th></th>\n",
              "      <th></th>\n",
              "      <th></th>\n",
              "      <th></th>\n",
              "      <th></th>\n",
              "      <th></th>\n",
              "      <th></th>\n",
              "      <th></th>\n",
              "      <th></th>\n",
              "      <th></th>\n",
              "      <th></th>\n",
              "      <th></th>\n",
              "      <th></th>\n",
              "      <th></th>\n",
              "      <th></th>\n",
              "      <th></th>\n",
              "      <th></th>\n",
              "      <th></th>\n",
              "      <th></th>\n",
              "      <th></th>\n",
              "      <th></th>\n",
              "      <th></th>\n",
              "      <th></th>\n",
              "      <th></th>\n",
              "      <th></th>\n",
              "      <th></th>\n",
              "    </tr>\n",
              "  </thead>\n",
              "  <tbody>\n",
              "    <tr>\n",
              "      <th>000243c8e211fb3f359e4ff45ca899ea</th>\n",
              "      <td>0.0</td>\n",
              "      <td>0.0</td>\n",
              "      <td>0.0</td>\n",
              "      <td>0.0</td>\n",
              "      <td>0.0</td>\n",
              "      <td>0.0</td>\n",
              "      <td>0.0</td>\n",
              "      <td>0.0</td>\n",
              "      <td>0.0</td>\n",
              "      <td>0.0</td>\n",
              "      <td>0.0</td>\n",
              "      <td>0.0</td>\n",
              "      <td>0.0</td>\n",
              "      <td>0.0</td>\n",
              "      <td>0.0</td>\n",
              "      <td>0.0</td>\n",
              "      <td>0.0</td>\n",
              "      <td>0.0</td>\n",
              "      <td>0.0</td>\n",
              "      <td>0.0</td>\n",
              "      <td>0.0</td>\n",
              "      <td>0.0</td>\n",
              "      <td>0.0</td>\n",
              "      <td>0.0</td>\n",
              "      <td>0.0</td>\n",
              "      <td>0.0</td>\n",
              "      <td>0.0</td>\n",
              "      <td>0.0</td>\n",
              "      <td>0.0</td>\n",
              "      <td>0.0</td>\n",
              "      <td>0.0</td>\n",
              "      <td>0.0</td>\n",
              "      <td>0.0</td>\n",
              "      <td>0.0</td>\n",
              "      <td>0.0</td>\n",
              "      <td>0.0</td>\n",
              "      <td>0.0</td>\n",
              "      <td>0.0</td>\n",
              "      <td>0.0</td>\n",
              "      <td>0.0</td>\n",
              "      <td>...</td>\n",
              "      <td>0.0</td>\n",
              "      <td>0.0</td>\n",
              "      <td>0.0</td>\n",
              "      <td>0.0</td>\n",
              "      <td>0.0</td>\n",
              "      <td>0.0</td>\n",
              "      <td>0.0</td>\n",
              "      <td>0.0</td>\n",
              "      <td>0.0</td>\n",
              "      <td>0.0</td>\n",
              "      <td>0.0</td>\n",
              "      <td>0.0</td>\n",
              "      <td>0.0</td>\n",
              "      <td>0.0</td>\n",
              "      <td>0.0</td>\n",
              "      <td>0.0</td>\n",
              "      <td>0.0</td>\n",
              "      <td>0.0</td>\n",
              "      <td>0.0</td>\n",
              "      <td>0.0</td>\n",
              "      <td>0.0</td>\n",
              "      <td>0.0</td>\n",
              "      <td>0.0</td>\n",
              "      <td>0.0</td>\n",
              "      <td>0.0</td>\n",
              "      <td>0.0</td>\n",
              "      <td>0.0</td>\n",
              "      <td>0.0</td>\n",
              "      <td>0.0</td>\n",
              "      <td>0.0</td>\n",
              "      <td>0.0</td>\n",
              "      <td>0.0</td>\n",
              "      <td>0.0</td>\n",
              "      <td>0.0</td>\n",
              "      <td>0.0</td>\n",
              "      <td>0.0</td>\n",
              "      <td>0.0</td>\n",
              "      <td>0.0</td>\n",
              "      <td>0.0</td>\n",
              "      <td>0.0</td>\n",
              "    </tr>\n",
              "    <tr>\n",
              "      <th>00052f373c101767aca448f09a9b07e5</th>\n",
              "      <td>0.0</td>\n",
              "      <td>0.0</td>\n",
              "      <td>0.0</td>\n",
              "      <td>0.0</td>\n",
              "      <td>0.0</td>\n",
              "      <td>0.0</td>\n",
              "      <td>0.0</td>\n",
              "      <td>0.0</td>\n",
              "      <td>0.0</td>\n",
              "      <td>0.0</td>\n",
              "      <td>0.0</td>\n",
              "      <td>0.0</td>\n",
              "      <td>0.0</td>\n",
              "      <td>0.0</td>\n",
              "      <td>0.0</td>\n",
              "      <td>0.0</td>\n",
              "      <td>0.0</td>\n",
              "      <td>0.0</td>\n",
              "      <td>0.0</td>\n",
              "      <td>0.0</td>\n",
              "      <td>0.0</td>\n",
              "      <td>0.0</td>\n",
              "      <td>0.0</td>\n",
              "      <td>0.0</td>\n",
              "      <td>0.0</td>\n",
              "      <td>0.0</td>\n",
              "      <td>0.0</td>\n",
              "      <td>0.0</td>\n",
              "      <td>0.0</td>\n",
              "      <td>0.0</td>\n",
              "      <td>0.0</td>\n",
              "      <td>0.0</td>\n",
              "      <td>0.0</td>\n",
              "      <td>0.0</td>\n",
              "      <td>0.0</td>\n",
              "      <td>0.0</td>\n",
              "      <td>0.0</td>\n",
              "      <td>0.0</td>\n",
              "      <td>0.0</td>\n",
              "      <td>0.0</td>\n",
              "      <td>...</td>\n",
              "      <td>0.0</td>\n",
              "      <td>0.0</td>\n",
              "      <td>0.0</td>\n",
              "      <td>0.0</td>\n",
              "      <td>0.0</td>\n",
              "      <td>0.0</td>\n",
              "      <td>0.0</td>\n",
              "      <td>0.0</td>\n",
              "      <td>0.0</td>\n",
              "      <td>0.0</td>\n",
              "      <td>0.0</td>\n",
              "      <td>0.0</td>\n",
              "      <td>0.0</td>\n",
              "      <td>0.0</td>\n",
              "      <td>0.0</td>\n",
              "      <td>0.0</td>\n",
              "      <td>0.0</td>\n",
              "      <td>0.0</td>\n",
              "      <td>0.0</td>\n",
              "      <td>0.0</td>\n",
              "      <td>0.0</td>\n",
              "      <td>0.0</td>\n",
              "      <td>0.0</td>\n",
              "      <td>0.0</td>\n",
              "      <td>0.0</td>\n",
              "      <td>0.0</td>\n",
              "      <td>0.0</td>\n",
              "      <td>0.0</td>\n",
              "      <td>0.0</td>\n",
              "      <td>0.0</td>\n",
              "      <td>0.0</td>\n",
              "      <td>0.0</td>\n",
              "      <td>0.0</td>\n",
              "      <td>0.0</td>\n",
              "      <td>0.0</td>\n",
              "      <td>0.0</td>\n",
              "      <td>0.0</td>\n",
              "      <td>0.0</td>\n",
              "      <td>0.0</td>\n",
              "      <td>0.0</td>\n",
              "    </tr>\n",
              "    <tr>\n",
              "      <th>0007c32f7f876a7b7704b3b0aeb5db07</th>\n",
              "      <td>0.0</td>\n",
              "      <td>0.0</td>\n",
              "      <td>0.0</td>\n",
              "      <td>0.0</td>\n",
              "      <td>0.0</td>\n",
              "      <td>0.0</td>\n",
              "      <td>0.0</td>\n",
              "      <td>0.0</td>\n",
              "      <td>0.0</td>\n",
              "      <td>0.0</td>\n",
              "      <td>0.0</td>\n",
              "      <td>0.0</td>\n",
              "      <td>0.0</td>\n",
              "      <td>0.0</td>\n",
              "      <td>0.0</td>\n",
              "      <td>0.0</td>\n",
              "      <td>0.0</td>\n",
              "      <td>0.0</td>\n",
              "      <td>0.0</td>\n",
              "      <td>0.0</td>\n",
              "      <td>0.0</td>\n",
              "      <td>0.0</td>\n",
              "      <td>0.0</td>\n",
              "      <td>0.0</td>\n",
              "      <td>0.0</td>\n",
              "      <td>0.0</td>\n",
              "      <td>0.0</td>\n",
              "      <td>0.0</td>\n",
              "      <td>0.0</td>\n",
              "      <td>0.0</td>\n",
              "      <td>0.0</td>\n",
              "      <td>0.0</td>\n",
              "      <td>0.0</td>\n",
              "      <td>0.0</td>\n",
              "      <td>0.0</td>\n",
              "      <td>0.0</td>\n",
              "      <td>0.0</td>\n",
              "      <td>0.0</td>\n",
              "      <td>0.0</td>\n",
              "      <td>0.0</td>\n",
              "      <td>...</td>\n",
              "      <td>0.0</td>\n",
              "      <td>0.0</td>\n",
              "      <td>0.0</td>\n",
              "      <td>0.0</td>\n",
              "      <td>0.0</td>\n",
              "      <td>0.0</td>\n",
              "      <td>0.0</td>\n",
              "      <td>0.0</td>\n",
              "      <td>0.0</td>\n",
              "      <td>0.0</td>\n",
              "      <td>0.0</td>\n",
              "      <td>0.0</td>\n",
              "      <td>0.0</td>\n",
              "      <td>0.0</td>\n",
              "      <td>0.0</td>\n",
              "      <td>0.0</td>\n",
              "      <td>0.0</td>\n",
              "      <td>0.0</td>\n",
              "      <td>0.0</td>\n",
              "      <td>0.0</td>\n",
              "      <td>0.0</td>\n",
              "      <td>0.0</td>\n",
              "      <td>0.0</td>\n",
              "      <td>0.0</td>\n",
              "      <td>0.0</td>\n",
              "      <td>0.0</td>\n",
              "      <td>0.0</td>\n",
              "      <td>0.0</td>\n",
              "      <td>0.0</td>\n",
              "      <td>0.0</td>\n",
              "      <td>0.0</td>\n",
              "      <td>0.0</td>\n",
              "      <td>0.0</td>\n",
              "      <td>0.0</td>\n",
              "      <td>0.0</td>\n",
              "      <td>0.0</td>\n",
              "      <td>0.0</td>\n",
              "      <td>0.0</td>\n",
              "      <td>0.0</td>\n",
              "      <td>0.0</td>\n",
              "    </tr>\n",
              "    <tr>\n",
              "      <th>000a9539c044b397780166167b1327b3</th>\n",
              "      <td>0.0</td>\n",
              "      <td>0.0</td>\n",
              "      <td>0.0</td>\n",
              "      <td>0.0</td>\n",
              "      <td>0.0</td>\n",
              "      <td>0.0</td>\n",
              "      <td>0.0</td>\n",
              "      <td>0.0</td>\n",
              "      <td>0.0</td>\n",
              "      <td>0.0</td>\n",
              "      <td>0.0</td>\n",
              "      <td>0.0</td>\n",
              "      <td>0.0</td>\n",
              "      <td>0.0</td>\n",
              "      <td>0.0</td>\n",
              "      <td>0.0</td>\n",
              "      <td>0.0</td>\n",
              "      <td>0.0</td>\n",
              "      <td>0.0</td>\n",
              "      <td>0.0</td>\n",
              "      <td>0.0</td>\n",
              "      <td>0.0</td>\n",
              "      <td>0.0</td>\n",
              "      <td>0.0</td>\n",
              "      <td>5.0</td>\n",
              "      <td>0.0</td>\n",
              "      <td>0.0</td>\n",
              "      <td>0.0</td>\n",
              "      <td>0.0</td>\n",
              "      <td>0.0</td>\n",
              "      <td>0.0</td>\n",
              "      <td>0.0</td>\n",
              "      <td>0.0</td>\n",
              "      <td>0.0</td>\n",
              "      <td>0.0</td>\n",
              "      <td>0.0</td>\n",
              "      <td>0.0</td>\n",
              "      <td>0.0</td>\n",
              "      <td>0.0</td>\n",
              "      <td>0.0</td>\n",
              "      <td>...</td>\n",
              "      <td>0.0</td>\n",
              "      <td>0.0</td>\n",
              "      <td>0.0</td>\n",
              "      <td>0.0</td>\n",
              "      <td>0.0</td>\n",
              "      <td>0.0</td>\n",
              "      <td>0.0</td>\n",
              "      <td>0.0</td>\n",
              "      <td>0.0</td>\n",
              "      <td>0.0</td>\n",
              "      <td>0.0</td>\n",
              "      <td>0.0</td>\n",
              "      <td>0.0</td>\n",
              "      <td>0.0</td>\n",
              "      <td>0.0</td>\n",
              "      <td>0.0</td>\n",
              "      <td>0.0</td>\n",
              "      <td>0.0</td>\n",
              "      <td>0.0</td>\n",
              "      <td>0.0</td>\n",
              "      <td>0.0</td>\n",
              "      <td>0.0</td>\n",
              "      <td>0.0</td>\n",
              "      <td>0.0</td>\n",
              "      <td>0.0</td>\n",
              "      <td>0.0</td>\n",
              "      <td>0.0</td>\n",
              "      <td>0.0</td>\n",
              "      <td>0.0</td>\n",
              "      <td>0.0</td>\n",
              "      <td>0.0</td>\n",
              "      <td>0.0</td>\n",
              "      <td>0.0</td>\n",
              "      <td>0.0</td>\n",
              "      <td>0.0</td>\n",
              "      <td>0.0</td>\n",
              "      <td>0.0</td>\n",
              "      <td>0.0</td>\n",
              "      <td>0.0</td>\n",
              "      <td>0.0</td>\n",
              "    </tr>\n",
              "    <tr>\n",
              "      <th>000adba19f8f49c25017d68c2a55d90f</th>\n",
              "      <td>0.0</td>\n",
              "      <td>0.0</td>\n",
              "      <td>0.0</td>\n",
              "      <td>0.0</td>\n",
              "      <td>0.0</td>\n",
              "      <td>0.0</td>\n",
              "      <td>0.0</td>\n",
              "      <td>0.0</td>\n",
              "      <td>0.0</td>\n",
              "      <td>0.0</td>\n",
              "      <td>0.0</td>\n",
              "      <td>0.0</td>\n",
              "      <td>0.0</td>\n",
              "      <td>0.0</td>\n",
              "      <td>0.0</td>\n",
              "      <td>0.0</td>\n",
              "      <td>0.0</td>\n",
              "      <td>0.0</td>\n",
              "      <td>0.0</td>\n",
              "      <td>0.0</td>\n",
              "      <td>0.0</td>\n",
              "      <td>0.0</td>\n",
              "      <td>0.0</td>\n",
              "      <td>0.0</td>\n",
              "      <td>0.0</td>\n",
              "      <td>0.0</td>\n",
              "      <td>0.0</td>\n",
              "      <td>0.0</td>\n",
              "      <td>0.0</td>\n",
              "      <td>0.0</td>\n",
              "      <td>0.0</td>\n",
              "      <td>0.0</td>\n",
              "      <td>0.0</td>\n",
              "      <td>0.0</td>\n",
              "      <td>0.0</td>\n",
              "      <td>0.0</td>\n",
              "      <td>0.0</td>\n",
              "      <td>0.0</td>\n",
              "      <td>0.0</td>\n",
              "      <td>0.0</td>\n",
              "      <td>...</td>\n",
              "      <td>0.0</td>\n",
              "      <td>0.0</td>\n",
              "      <td>0.0</td>\n",
              "      <td>0.0</td>\n",
              "      <td>0.0</td>\n",
              "      <td>0.0</td>\n",
              "      <td>0.0</td>\n",
              "      <td>0.0</td>\n",
              "      <td>0.0</td>\n",
              "      <td>0.0</td>\n",
              "      <td>0.0</td>\n",
              "      <td>0.0</td>\n",
              "      <td>0.0</td>\n",
              "      <td>0.0</td>\n",
              "      <td>0.0</td>\n",
              "      <td>0.0</td>\n",
              "      <td>0.0</td>\n",
              "      <td>0.0</td>\n",
              "      <td>0.0</td>\n",
              "      <td>0.0</td>\n",
              "      <td>0.0</td>\n",
              "      <td>0.0</td>\n",
              "      <td>0.0</td>\n",
              "      <td>0.0</td>\n",
              "      <td>0.0</td>\n",
              "      <td>0.0</td>\n",
              "      <td>0.0</td>\n",
              "      <td>0.0</td>\n",
              "      <td>0.0</td>\n",
              "      <td>0.0</td>\n",
              "      <td>0.0</td>\n",
              "      <td>0.0</td>\n",
              "      <td>0.0</td>\n",
              "      <td>0.0</td>\n",
              "      <td>0.0</td>\n",
              "      <td>0.0</td>\n",
              "      <td>0.0</td>\n",
              "      <td>0.0</td>\n",
              "      <td>0.0</td>\n",
              "      <td>0.0</td>\n",
              "    </tr>\n",
              "  </tbody>\n",
              "</table>\n",
              "<p>5 rows × 18295 columns</p>\n",
              "</div>"
            ],
            "text/plain": [
              "book_id                           234       236       ...  36392890  36417323\n",
              "user_id                                               ...                    \n",
              "000243c8e211fb3f359e4ff45ca899ea       0.0       0.0  ...       0.0       0.0\n",
              "00052f373c101767aca448f09a9b07e5       0.0       0.0  ...       0.0       0.0\n",
              "0007c32f7f876a7b7704b3b0aeb5db07       0.0       0.0  ...       0.0       0.0\n",
              "000a9539c044b397780166167b1327b3       0.0       0.0  ...       0.0       0.0\n",
              "000adba19f8f49c25017d68c2a55d90f       0.0       0.0  ...       0.0       0.0\n",
              "\n",
              "[5 rows x 18295 columns]"
            ]
          },
          "metadata": {},
          "execution_count": 35
        }
      ]
    },
    {
      "cell_type": "code",
      "metadata": {
        "id": "4sP7F7au0UDM"
      },
      "source": [
        "user_id = list(interaction.index)\n",
        "\n",
        "user_dict = {}\n",
        "counter = 0\n",
        "\n",
        "for i in user_id:\n",
        "  user_dict[i] = counter\n",
        "  counter += 1"
      ],

      "execution_count": 36,

      "outputs": []
    },
    {
      "cell_type": "code",
      "metadata": {
        "colab": {
          "base_uri": "https://localhost:8080/"
        },
        "id": "GzkH0od60T8X",
        "outputId": "f5e7885b-4e2e-40b2-84ba-7c30624025f3"
      },
      "source": [
        "# convert to csr matrix\n",
        "interaction_csr = csr_matrix(interaction.values)\n",
        "interaction_csr"
      ],

      "execution_count": 37,

      "outputs": [
        {
          "output_type": "execute_result",
          "data": {
            "text/plain": [
              "<30000x18295 sparse matrix of type '<class 'numpy.float64'>'\n",
              "\twith 137367 stored elements in Compressed Sparse Row format>"
            ]
          },
          "metadata": {},
          "execution_count": 37
        }
      ]
    },
    {
      "cell_type": "code",
      "metadata": {
        "id": "QjKXmW3W_HSN"
      },
      "source": [
        "# train과 test를 위한 데이터를 나눈다\n",
        "# test 시에는 train에 사용한 데이터를 사용하지 않고, 공정하게 평가하기 위함임\n",
        "train_interaction_csr, test_interaction_csr = random_train_test_split(interaction_csr, test_percentage=0.2)"
      ],

      "execution_count": 38,

      "outputs": []
    },
    {
      "cell_type": "markdown",
      "metadata": {
        "id": "WLm_I2657m6Z"
      },
      "source": [
        "## **Model Train & Evaluation**"
      ]
    },
    {
      "cell_type": "code",
      "metadata": {
        "id": "ErtpWKmL0TyU",
        "colab": {
          "base_uri": "https://localhost:8080/"
        },
        "outputId": "004ba678-5fda-4b7d-ee40-4989c89ea2ea"
      },
      "source": [
        "# 추천 모델을 정의\n",
        "model = LightFM(loss='warp',\n",
        "                random_state=2021,\n",
        "                learning_rate=0.09,\n",
        "                no_components=150,\n",
        "                user_alpha=0.000005)\n",
        "\n",
        "# 위에서 정의한 모델을 학습시킴\n",
        "result = model.fit(train_interaction_csr,\n",
        "                  epochs=100,\n",
        "                  num_threads=16, verbose=True)"
      ],

      "execution_count": 39,

      "outputs": [
        {
          "output_type": "stream",
          "name": "stderr",
          "text": [
            "Epoch: 100%|██████████| 100/100 [00:42<00:00,  2.36it/s]\n"
          ]
        }
      ]
    },
    {
      "cell_type": "code",
      "metadata": {
        "id": "lhVgBHgu_-k9",
        "colab": {
          "base_uri": "https://localhost:8080/"
        },
        "outputId": "4966130b-379f-4757-f1ba-7bc5d4011ba6"
      },
      "source": [
        "# 추천 알고리즘 성능을 평가하기 위한 점수\n",
        "# 1에 가까울수록 추천에 대한 신뢰도가 높다고 말할 수 있다\n",
        "auc_train = auc_score(result, train_interaction_csr, num_threads=16).mean()\n",
        "auc_test = auc_score(result, test_interaction_csr, num_threads=16).mean()\n",
        "\n",
        "print('AUC Score for Train:', auc_train)\n",
        "print('AUC Score for Test:', auc_test)"
      ],

      "execution_count": 40,

      "outputs": [
        {
          "output_type": "stream",
          "name": "stdout",
          "text": [
            "AUC Score for Train: 0.9999698\n",
            "AUC Score for Test: 0.8842181\n"
          ]
        }
      ]
    },
    {
      "cell_type": "code",
      "metadata": {
        "id": "CjpbF1ooHypY"
      },
      "source": [
        "# 특정 유저가 선호하는 책 정보를 바탕으로 선호할만한 책을 추천해주는 함수\n",
        "def sample_recommendation(user_id, user_dict, item_dict, threshold=0, nrec_items=5, show = True):\n",
        "  n_users, n_items = interaction.shape\n",
        "  user_idx = user_dict[user_id]\n",
        "\n",
        "  scores = pd.Series(result.predict(user_idx, np.arange(n_items), item_features=book_csr))\n",
        "  scores.index = interaction.columns\n",
        "  scores = list(pd.Series(scores.sort_values(ascending=False).index))\n",
        "\n",
        "  known_items = list(pd.Series(interaction.loc[user_id,:][interaction.loc[user_id,:] > threshold].index).sort_values(ascending=False))\n",
        "\n",
        "  scores = [x for x in scores if x not in known_items]\n",
        "  return_score_list = scores[0:nrec_items]\n",
        "\n",
        "  known_items = list(pd.Series(known_items).apply(lambda x: item_dict[x]))\n",
        "  scores = list(pd.Series(return_score_list).apply(lambda x: item_dict[x]))\n",
        "\n",
        "  if show == True:\n",
        "      print (\"User: \" + str(user_id))\n",
        "      print(\"Known Likes:\")\n",
        "      counter = 1\n",
        "      for item in known_items:\n",
        "          print(str(counter) + '- ' + item)\n",
        "          counter += 1\n",
        "\n",
        "      print(\"\\nRecommended Items:\")\n",
        "      counter = 1\n",
        "      for s in scores:\n",
        "          print(str(counter) + '- ' + s)\n",
        "          counter += 1"
      ],

      "execution_count": 85,

      "outputs": []
    },
    {
      "cell_type": "code",
      "metadata": {
        "id": "_Qt3NjrVKoup",
        "colab": {
          "base_uri": "https://localhost:8080/"
        },
        "outputId": "d392afce-0e0a-4a77-a348-e49f31ff75f4"
      },
      "source": [
        "# random user를 한 명 고른다\n",
        "random_user = random.sample(list(interaction.index), 1)\n",
        "\n",
        "# 해당 유저가 선호하는 책 정보를 바탕으로, 5개의 선호할만한 책을 추천\n",
        "sample_recommendation(random_user[0], user_dict, item_dict)"
      ],

      "execution_count": 86,

      "outputs": [
        {
          "output_type": "stream",
          "name": "stdout",
          "text": [
            "User: 3cb1c961c10302250fcade9ecdba9256\n",
            "Known Likes:\n",
            "1- Antologia poética\n",
            "\n",
            "Recommended Items:\n",
            "1- Pax Atomica: Poems\n",
            "2- What Work Is\n",
            "3- Odyssey\n",
            "4- Ohayo Haiku\n",
            "5- The Odyssey\n"
          ]
        }
      ]
    },
    {
      "cell_type": "code",
      "metadata": {
        "id": "188TrW1L2AiM"
      },
      "source": [
        ""
      ],
      "execution_count": null,
      "outputs": []
    }
  ]
}