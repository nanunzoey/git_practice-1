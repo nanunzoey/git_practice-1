{
  "nbformat": 4,
  "nbformat_minor": 0,
  "metadata": {
    "colab": {
      "name": "session_click_211013.ipynb",
      "provenance": [],

      "collapsed_sections": [],
      "mount_file_id": "1oIZ9ZzT5dmQvDxTlCcYoU0yeDCS1NU67",
      "authorship_tag": "ABX9TyNQdRHylOPhOYnR8m/gVW7x",
      "include_colab_link": true

    },
    "kernelspec": {
      "name": "python3",
      "display_name": "Python 3"
    },
    "language_info": {
      "name": "python"
    }
  },
  "cells": [
    {
      "cell_type": "markdown",
      "metadata": {

        "id": "view-in-github",
        "colab_type": "text"
      },
      "source": [
        "<a href=\"https://colab.research.google.com/github/nanunzoey/git_practice-1/blob/main/session_click_211013.ipynb\" target=\"_parent\"><img src=\"https://colab.research.google.com/assets/colab-badge.svg\" alt=\"Open In Colab\"/></a>"
      ]
    },
    {
      "cell_type": "markdown",
      "metadata": {
        "id": "FHWmAdyVAeq_"
      },
      "source": [
        "# **Item별 클릭 이벤트 카운트**\n",
        "\n",
        "#### **- 1. 뭘 하는 것인가?**\n",
        "- item에 대한 사용자의 **선호도**를 객관적으로 측정하는 지표로 **클릭 수**를 이용하려고 합니다.\n",
        "- 이를 위해 item별 사용자의 클릭 이벤트를 count해서 **추천 알고리즘에 사용**할 예정입니다.\n",
        "- 클릭 수 외에도 **장바구니, 찜하기, 구매 여부 데이터**가 있으면 **더 정확하게** 선호도를 예측할 수 있습니다.\n",
        "\n",
        "\n",
        "#### **- 2. 사용한 데이터**\n",
        "- 아래 사용된 데이터는 공개된 [E-commerce Session 데이터](https://www.kaggle.com/chadgostopp/recsys-challenge-2015)입니다.\n",
        "- 각 세션은 **사용자의 클릭 이벤트를 수집한 것**이며, 데이터의 구성은 다음과 같습니다.\n",
        "- Columns\n",
        "    - 1) 세션 ID\n",
        "    - 2) 타임스탬프\n",
        "    - 3) Item ID\n",
        "    - 4) Category\n",
        "- 위 column 중 category를 제외한 나머지 3개를 이용해 item별 클릭 수를 count했습니다."

      ]
    },
    {
      "cell_type": "code",
      "metadata": {
        "id": "5l6NIc2uV5mS"
      },
      "source": [
        "import os\n",
        "from urllib import request\n",
        "import warnings\n",
        "warnings.filterwarnings(\"ignore\")\n",
        "\n",
        "import numpy as np\n",
        "import pandas as pd\n",
        "import matplotlib.pyplot as plt\n",
        "%matplotlib inline"
      ],

      "execution_count": 1,

      "outputs": []
    },
    {
      "cell_type": "code",
      "metadata": {
        "id": "LWZabKYRXFcC"
      },
      "source": [
        "file_path = '/content/drive/MyDrive/AIFFEL/해커톤3/미니해커톤_토이모델구현/yoochoose-clicks.dat'"
      ],

      "execution_count": 2,

      "outputs": []
    },
    {
      "cell_type": "code",
      "metadata": {
        "id": "XOKg2JHpmMcd"
      },
      "source": [
        "session = pd.read_table(file_path, header=None, encoding='utf-8', sep=',', names=['session_id', 'timestamp', 'item_id', 'category'])"
      ],

      "execution_count": 3,

      "outputs": []
    },
    {
      "cell_type": "code",
      "metadata": {
        "id": "atfj3T1PTjz9",
        "colab": {
          "base_uri": "https://localhost:8080/",
          "height": 204
        },

        "outputId": "1879b3d0-503c-4eb3-ff02-046e55772ef3"

      },
      "source": [
        "# 원본 데이터\n",
        "session.head()"
      ],

      "execution_count": 4,

      "outputs": [
        {
          "output_type": "execute_result",
          "data": {
            "text/html": [
              "<div>\n",
              "<style scoped>\n",
              "    .dataframe tbody tr th:only-of-type {\n",
              "        vertical-align: middle;\n",
              "    }\n",
              "\n",
              "    .dataframe tbody tr th {\n",
              "        vertical-align: top;\n",
              "    }\n",
              "\n",
              "    .dataframe thead th {\n",
              "        text-align: right;\n",
              "    }\n",
              "</style>\n",
              "<table border=\"1\" class=\"dataframe\">\n",
              "  <thead>\n",
              "    <tr style=\"text-align: right;\">\n",
              "      <th></th>\n",
              "      <th>session_id</th>\n",
              "      <th>timestamp</th>\n",
              "      <th>item_id</th>\n",
              "      <th>category</th>\n",
              "    </tr>\n",
              "  </thead>\n",
              "  <tbody>\n",
              "    <tr>\n",
              "      <th>0</th>\n",
              "      <td>1</td>\n",
              "      <td>2014-04-07T10:51:09.277Z</td>\n",
              "      <td>214536502</td>\n",
              "      <td>0</td>\n",
              "    </tr>\n",
              "    <tr>\n",
              "      <th>1</th>\n",
              "      <td>1</td>\n",
              "      <td>2014-04-07T10:54:09.868Z</td>\n",
              "      <td>214536500</td>\n",
              "      <td>0</td>\n",
              "    </tr>\n",
              "    <tr>\n",
              "      <th>2</th>\n",
              "      <td>1</td>\n",
              "      <td>2014-04-07T10:54:46.998Z</td>\n",
              "      <td>214536506</td>\n",
              "      <td>0</td>\n",
              "    </tr>\n",
              "    <tr>\n",
              "      <th>3</th>\n",
              "      <td>1</td>\n",
              "      <td>2014-04-07T10:57:00.306Z</td>\n",
              "      <td>214577561</td>\n",
              "      <td>0</td>\n",
              "    </tr>\n",
              "    <tr>\n",
              "      <th>4</th>\n",
              "      <td>2</td>\n",
              "      <td>2014-04-07T13:56:37.614Z</td>\n",
              "      <td>214662742</td>\n",
              "      <td>0</td>\n",
              "    </tr>\n",
              "  </tbody>\n",
              "</table>\n",
              "</div>"
            ],
            "text/plain": [
              "   session_id                 timestamp    item_id category\n",
              "0           1  2014-04-07T10:51:09.277Z  214536502        0\n",
              "1           1  2014-04-07T10:54:09.868Z  214536500        0\n",
              "2           1  2014-04-07T10:54:46.998Z  214536506        0\n",
              "3           1  2014-04-07T10:57:00.306Z  214577561        0\n",
              "4           2  2014-04-07T13:56:37.614Z  214662742        0"
            ]
          },
          "metadata": {},

          "execution_count": 4

        }
      ]
    },
    {
      "cell_type": "code",
      "metadata": {
        "colab": {
          "base_uri": "https://localhost:8080/"
        },
        "id": "YCerdZKs9T8_",

        "outputId": "21faafe6-cdb3-4cba-ab56-daf63010d215"

      },
      "source": [
        "# 원본 데이터셋 크기\n",
        "session.shape"
      ],

      "execution_count": 5,

      "outputs": [
        {
          "output_type": "execute_result",
          "data": {
            "text/plain": [
              "(33003944, 4)"
            ]
          },
          "metadata": {},

          "execution_count": 5

        }
      ]
    },
    {
      "cell_type": "code",
      "metadata": {
        "colab": {
          "base_uri": "https://localhost:8080/"
        },
        "id": "RqBr60QD8E_L",

        "outputId": "49f71f95-5dd3-43f7-bf4f-0fe43b80bc6c"

      },
      "source": [
        "# 데이터 컬럼별 unique number check\n",
        "session.nunique()"
      ],

      "execution_count": 6,

      "outputs": [
        {
          "output_type": "execute_result",
          "data": {
            "text/plain": [
              "session_id     9249729\n",
              "timestamp     32937845\n",
              "item_id          52739\n",
              "category           340\n",
              "dtype: int64"
            ]
          },
          "metadata": {},

          "execution_count": 6

        }
      ]
    },
    {
      "cell_type": "code",
      "metadata": {
        "id": "-us8_slfc8Nt"
      },
      "source": [
        "# 필요 없는 column drop\n",
        "session.drop('category', axis=1, inplace=True)"
      ],

      "execution_count": 7,

      "outputs": []
    },
    {
      "cell_type": "code",
      "metadata": {
        "colab": {
          "base_uri": "https://localhost:8080/"
        },
        "id": "Lovy9iSa9VYD",

        "outputId": "f6664677-6e97-4864-fdf3-dfb4593ee05a"

      },
      "source": [
        "# 중복 data drop\n",
        "session.drop_duplicates(inplace=True)\n",
        "\n",
        "# 전처리 후 데이터 크기\n",
        "session.shape"
      ],

      "execution_count": 8,

      "outputs": [
        {
          "output_type": "execute_result",
          "data": {
            "text/plain": [
              "(33003875, 3)"
            ]
          },
          "metadata": {},

          "execution_count": 8

        }
      ]
    },
    {
      "cell_type": "code",
      "metadata": {
        "id": "SvXYp5yH-QS0"
      },
      "source": [
        "# item_id별 클릭 수 count\n",
        "click = session.groupby('item_id').count()"
      ],

      "execution_count": 9,

      "outputs": []
    },
    {
      "cell_type": "code",
      "metadata": {
        "colab": {
          "base_uri": "https://localhost:8080/",

          "height": 235
        },
        "id": "iF1q_giz_kG7",
        "outputId": "2d054634-05c4-49e4-b79f-5d951fdba140"
      },
      "source": [
        "# click 수가 가장 많은 item 순으로 정렬\n",
        "result = click.sort_values(by='timestamp', ascending=False)\n",
        "result.head()"
      ],
      "execution_count": 28,

      "outputs": [
        {
          "output_type": "execute_result",
          "data": {
            "text/html": [
              "<div>\n",
              "<style scoped>\n",
              "    .dataframe tbody tr th:only-of-type {\n",
              "        vertical-align: middle;\n",
              "    }\n",
              "\n",
              "    .dataframe tbody tr th {\n",
              "        vertical-align: top;\n",
              "    }\n",
              "\n",
              "    .dataframe thead th {\n",
              "        text-align: right;\n",
              "    }\n",
              "</style>\n",
              "<table border=\"1\" class=\"dataframe\">\n",
              "  <thead>\n",
              "    <tr style=\"text-align: right;\">\n",
              "      <th></th>\n",
              "      <th>session_id</th>\n",
              "      <th>timestamp</th>\n",
              "    </tr>\n",
              "    <tr>\n",
              "      <th>item_id</th>\n",
              "      <th></th>\n",
              "      <th></th>\n",
              "    </tr>\n",
              "  </thead>\n",
              "  <tbody>\n",
              "    <tr>\n",
              "      <th>643078800</th>\n",
              "      <td>147419</td>\n",
              "      <td>147419</td>\n",
              "    </tr>\n",
              "    <tr>\n",
              "      <th>214853094</th>\n",
              "      <td>125690</td>\n",
              "      <td>125690</td>\n",
              "    </tr>\n",
              "    <tr>\n",
              "      <th>214829878</th>\n",
              "      <td>113488</td>\n",
              "      <td>113488</td>\n",
              "    </tr>\n",
              "    <tr>\n",
              "      <th>214853420</th>\n",
              "      <td>78448</td>\n",
              "      <td>78448</td>\n",
              "    </tr>\n",
              "    <tr>\n",
              "      <th>214826610</th>\n",
              "      <td>69710</td>\n",
              "      <td>69710</td>\n",
              "    </tr>\n",

              "  </tbody>\n",
              "</table>\n",
              "</div>"
            ],
            "text/plain": [
              "           session_id  timestamp\n",
              "item_id                         \n",
              "643078800      147419     147419\n",
              "214853094      125690     125690\n",
              "214829878      113488     113488\n",
              "214853420       78448      78448\n",
              "214826610       69710      69710"
            ]
          },
          "metadata": {},
          "execution_count": 28
        }
      ]
    },
    {
      "cell_type": "code",
      "metadata": {
        "colab": {
          "base_uri": "https://localhost:8080/",
          "height": 419
        },
        "id": "_AuDsx4P1rPZ",
        "outputId": "2337dab9-07f1-40ff-e3b1-245d1c97c7d9"
      },
      "source": [
        "# item_id별 click 수를 카운트한 결과 도출 완료!\n",
        "result.reset_index().drop('timestamp', axis=1).rename(columns={'session_id': 'click_count'})"
      ],
      "execution_count": 29,
      "outputs": [
        {
          "output_type": "execute_result",
          "data": {
            "text/html": [
              "<div>\n",
              "<style scoped>\n",
              "    .dataframe tbody tr th:only-of-type {\n",
              "        vertical-align: middle;\n",
              "    }\n",
              "\n",
              "    .dataframe tbody tr th {\n",
              "        vertical-align: top;\n",
              "    }\n",
              "\n",
              "    .dataframe thead th {\n",
              "        text-align: right;\n",
              "    }\n",
              "</style>\n",
              "<table border=\"1\" class=\"dataframe\">\n",
              "  <thead>\n",
              "    <tr style=\"text-align: right;\">\n",
              "      <th></th>\n",
              "      <th>item_id</th>\n",
              "      <th>click_count</th>\n",
              "    </tr>\n",
              "  </thead>\n",
              "  <tbody>\n",
              "    <tr>\n",
              "      <th>0</th>\n",
              "      <td>643078800</td>\n",
              "      <td>147419</td>\n",
              "    </tr>\n",
              "    <tr>\n",
              "      <th>1</th>\n",
              "      <td>214853094</td>\n",
              "      <td>125690</td>\n",
              "    </tr>\n",
              "    <tr>\n",
              "      <th>2</th>\n",
              "      <td>214829878</td>\n",
              "      <td>113488</td>\n",
              "    </tr>\n",
              "    <tr>\n",
              "      <th>3</th>\n",
              "      <td>214853420</td>\n",
              "      <td>78448</td>\n",
              "    </tr>\n",
              "    <tr>\n",
              "      <th>4</th>\n",
              "      <td>214826610</td>\n",
              "      <td>69710</td>\n",
              "    </tr>\n",

              "    <tr>\n",
              "      <th>...</th>\n",
              "      <td>...</td>\n",
              "      <td>...</td>\n",
              "    </tr>\n",
              "    <tr>\n",

              "      <th>52734</th>\n",
              "      <td>214811685</td>\n",
              "      <td>1</td>\n",
              "    </tr>\n",
              "    <tr>\n",
              "      <th>52735</th>\n",
              "      <td>214811687</td>\n",
              "      <td>1</td>\n",
              "    </tr>\n",
              "    <tr>\n",
              "      <th>52736</th>\n",
              "      <td>214811690</td>\n",
              "      <td>1</td>\n",
              "    </tr>\n",
              "    <tr>\n",
              "      <th>52737</th>\n",
              "      <td>214811692</td>\n",
              "      <td>1</td>\n",
              "    </tr>\n",
              "    <tr>\n",
              "      <th>52738</th>\n",
              "      <td>214554114</td>\n",

              "      <td>1</td>\n",
              "    </tr>\n",
              "  </tbody>\n",
              "</table>\n",
              "<p>52739 rows × 2 columns</p>\n",
              "</div>"
            ],
            "text/plain": [

              "         item_id  click_count\n",
              "0      643078800       147419\n",
              "1      214853094       125690\n",
              "2      214829878       113488\n",
              "3      214853420        78448\n",
              "4      214826610        69710\n",
              "...          ...          ...\n",
              "52734  214811685            1\n",
              "52735  214811687            1\n",
              "52736  214811690            1\n",
              "52737  214811692            1\n",
              "52738  214554114            1\n",

              "\n",
              "[52739 rows x 2 columns]"
            ]
          },
          "metadata": {},

          "execution_count": 29

        }
      ]
    }
  ]
}